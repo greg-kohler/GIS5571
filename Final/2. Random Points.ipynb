{
 "cells": [
  {
   "cell_type": "code",
   "execution_count": null,
   "metadata": {},
   "outputs": [],
   "source": [
    "import arcpy"
   ]
  },
  {
   "cell_type": "markdown",
   "metadata": {},
   "source": [
    "### Create Random Points Around I-94"
   ]
  },
  {
   "cell_type": "markdown",
   "metadata": {},
   "source": [
    "Define Variable for Miles of Buffer and Number of Points"
   ]
  },
  {
   "cell_type": "code",
   "execution_count": null,
   "metadata": {},
   "outputs": [],
   "source": [
    "buffer = \"5\"\n",
    "points = 100"
   ]
  },
  {
   "cell_type": "markdown",
   "metadata": {},
   "source": [
    "#### Create Buffer Around I-94 Removal"
   ]
  },
  {
   "cell_type": "code",
   "execution_count": null,
   "metadata": {},
   "outputs": [],
   "source": [
    "#Buffer Around I-94 Removal Layer with No Ramps\n",
    "arcpy.analysis.Buffer(\n",
    "    in_features=r\"\\\\Mac\\Home\\Documents\\ArcGIS\\Projects\\FinalProjectStart\\FinalProjectStart.gdb\\I94_Removal_NoRamps\",\n",
    "    out_feature_class=r\"\\\\Mac\\Home\\Documents\\ArcGIS\\Projects\\FinalProjectStart\\FinalProjectStart.gdb\\I94_Removal_Buffer\",\n",
    "    buffer_distance_or_field=f\"{buffer} Miles\",\n",
    "    line_side=\"FULL\",\n",
    "    line_end_type=\"ROUND\",\n",
    "    dissolve_option=\"ALL\",\n",
    "    dissolve_field=None,\n",
    "    method=\"PLANAR\"\n",
    ")"
   ]
  },
  {
   "cell_type": "markdown",
   "metadata": {},
   "source": [
    "#### Create Random Points within the Buffer"
   ]
  },
  {
   "cell_type": "code",
   "execution_count": null,
   "metadata": {},
   "outputs": [],
   "source": [
    "arcpy.management.CreateRandomPoints(\n",
    "    out_path=r\"\\\\Mac\\Home\\Documents\\ArcGIS\\Projects\\FinalProjectStart\\FinalProjectStart.gdb\",\n",
    "    out_name=\"I94Points\",\n",
    "    constraining_feature_class=r\"\\\\Mac\\Home\\Documents\\ArcGIS\\Projects\\FinalProjectStart\\FinalProjectStart.gdb\\I94_Removal_Buffer\",\n",
    "    number_of_points_or_field=points,\n",
    "    minimum_allowed_distance=\"0 Meters\",\n",
    "    create_multipoint_output=\"POINT\",\n",
    "    multipoint_size=0\n",
    ")"
   ]
  }
 ],
 "metadata": {
  "kernelspec": {
   "display_name": "ArcGISPro",
   "language": "Python",
   "name": "python3"
  },
  "language_info": {
   "file_extension": ".py",
   "name": "python",
   "version": "3"
  }
 },
 "nbformat": 4,
 "nbformat_minor": 2
}
