{
 "cells": [
  {
   "cell_type": "code",
   "execution_count": null,
   "metadata": {},
   "outputs": [],
   "source": [
    "import arcpy"
   ]
  },
  {
   "cell_type": "markdown",
   "metadata": {},
   "source": [
    "### Retrieve Road Centerlines, Prepare Network"
   ]
  },
  {
   "cell_type": "markdown",
   "metadata": {},
   "source": [
    "#### Retrieve Metro Centerlines Data"
   ]
  },
  {
   "cell_type": "code",
   "execution_count": null,
   "metadata": {},
   "outputs": [],
   "source": [
    "zipfile_url = r'https://resources.gisdata.mn.gov/pub/gdrs/data/pub/us_mn_state_metrogis/trans_road_centerlines_gac/shp_trans_road_centerlines_gac.zip'\n",
    "download_directory = r'\\\\Mac\\Home\\Documents\\ArcGIS\\Projects\\FinalProjectStart\\Data'\n",
    "extract_directory = r'\\\\Mac\\Home\\Documents\\ArcGIS\\Projects\\FinalProjectStart\\Data'\n",
    "\n",
    "response = requests.get(zipfile_url)\n",
    "\n",
    "if response.status_code == 200:\n",
    "    zip_filename = os.path.basename(zipfile_url)\n",
    "    zip_file_path = os.pa11 th.join(download_directory, zip_filename)\n",
    "\n",
    "    with open(zip_file_path, 'wb') as f:\n",
    "        f.write(response.content)\n",
    "\n",
    "with zipfile.ZipFile(zip_file_path, 'r') as zip_ref:\n",
    "    zip_ref.extractall(extract_directory)\n",
    "    print(f'ZIP file extracted to: {extract_directory}')\n",
    "\n",
    "os.remove(zip_file_path)"
   ]
  },
  {
   "cell_type": "markdown",
   "metadata": {},
   "source": [
    "#### Calculate Fields for Hours and Minutes"
   ]
  },
  {
   "cell_type": "code",
   "execution_count": null,
   "metadata": {},
   "outputs": [],
   "source": [
    "#Calculate Speeds and Distances\n",
    "arcpy.management.CalculateField(\n",
    "    in_table=\"RoadCenterline\",\n",
    "    field=\"Miles\",\n",
    "    expression=\" nC\",\n",
    "    expression_type=\"PYTHON3\",\n",
    "    code_block=\"\",\n",
    "    field_type=\"FLOAT\",\n",
    "    enforce_domains=\"NO_ENFORCE_DOMAINS\"\n",
    ")\n",
    "\n",
    "arcpy.management.CalculateField(\n",
    "    in_table=\"RoadCenterline\",\n",
    "    field=\"Minutes\",\n",
    "    expression=\"(!Miles!/!SPEED_IMP!)*60\",\n",
    "    expression_type=\"PYTHON3\",\n",
    "    code_block=\"\",\n",
    "    field_type=\"DOUBLE\",\n",
    "    enforce_domains=\"NO_ENFORCE_DOMAINS\"\n",
    ")"
   ]
  },
  {
   "cell_type": "markdown",
   "metadata": {},
   "source": [
    "#### Create Feature for I-94 Removal, No Ramps\n",
    "The line feature for the removal of 94 was previously created."
   ]
  },
  {
   "cell_type": "code",
   "execution_count": null,
   "metadata": {},
   "outputs": [],
   "source": [
    "#Get just 94, No Ramps\n",
    "arcpy.conversion.ExportFeatures(\n",
    "    in_features=r\"\\\\Mac\\Home\\Documents\\ArcGIS\\Projects\\FinalProjectStart\\FinalProjectStart.gdb\\I94_Removal\",\n",
    "    out_features=r\"\\\\Mac\\Home\\Documents\\ArcGIS\\Projects\\FinalProjectStart\\FinalProjectStart.gdb\\I94_Removal_NoRamps\",\n",
    "    where_clause=\"ST_NAME = '94'\",\n",
    "    use_field_alias_as_name=\"NOT_USE_ALIAS\",\n",
    "    field_mapping='ROADSEG_ID \"ROADSEG_ID\" true true false 36 Text 0 0,First,#,I94_Removal,ROADSEG_ID,0,35;ROUTE_ID \"ROUTE_ID\" true true false 18 Text 0 0,First,#,I94_Removal,ROUTE_ID,0,17;ROUTE_SYS \"ROUTE_SYS\" true true false 2 Text 0 0,First,#,I94_Removal,ROUTE_SYS,0,1;ROUTE_DIR \"ROUTE_DIR\" true true false 1 Text 0 0,First,#,I94_Removal,ROUTE_DIR,0,254;LOC_STATE \"LOC_STATE\" true true false 10 Text 0 0,First,#,I94_Removal,LOC_STATE,0,9;PRIME_STAT \"PRIME_STAT\" true true false 10 Text 0 0,First,#,I94_Removal,PRIME_STAT,0,9;ST_PRE_MOD \"ST_PRE_MOD\" true true false 15 Text 0 0,First,#,I94_Removal,ST_PRE_MOD,0,14;ST_PRE_DIR \"ST_PRE_DIR\" true true false 9 Text 0 0,First,#,I94_Removal,ST_PRE_DIR,0,8;ST_PRE_TYP \"ST_PRE_TYP\" true true false 35 Text 0 0,First,#,I94_Removal,ST_PRE_TYP,0,34;ST_PRE_SEP \"ST_PRE_SEP\" true true false 20 Text 0 0,First,#,I94_Removal,ST_PRE_SEP,0,19;ST_NAME \"ST_NAME\" true true false 60 Text 0 0,First,#,I94_Removal,ST_NAME,0,59;ST_POS_TYP \"ST_POS_TYP\" true true false 15 Text 0 0,First,#,I94_Removal,ST_POS_TYP,0,14;ST_POS_DIR \"ST_POS_DIR\" true true false 9 Text 0 0,First,#,I94_Removal,ST_POS_DIR,0,8;ST_POS_MOD \"ST_POS_MOD\" true true false 15 Text 0 0,First,#,I94_Removal,ST_POS_MOD,0,14;ST_CONCAT \"ST_CONCAT\" true true false 150 Text 0 0,First,#,I94_Removal,ST_CONCAT,0,149;ST_NAME_A1 \"ST_NAME_A1\" true true false 150 Text 0 0,First,#,I94_Removal,ST_NAME_A1,0,149;A1_MSAG_V \"A1_MSAG_V\" true true false 7 Text 0 0,First,#,I94_Removal,A1_MSAG_V,0,6;ST_NAME_A2 \"ST_NAME_A2\" true true false 150 Text 0 0,First,#,I94_Removal,ST_NAME_A2,0,149;A2_MSAG_V \"A2_MSAG_V\" true true false 7 Text 0 0,First,#,I94_Removal,A2_MSAG_V,0,6;ST_NAME_A3 \"ST_NAME_A3\" true true false 150 Text 0 0,First,#,I94_Removal,ST_NAME_A3,0,149;A3_MSAG_V \"A3_MSAG_V\" true true false 7 Text 0 0,First,#,I94_Removal,A3_MSAG_V,0,6;ADD_FR_L \"ADD_FR_L\" true true false 4 Long 0 0,First,#,I94_Removal,ADD_FR_L,-1,-1;ADD_TO_L \"ADD_TO_L\" true true false 4 Long 0 0,First,#,I94_Removal,ADD_TO_L,-1,-1;ADD_FR_R \"ADD_FR_R\" true true false 4 Long 0 0,First,#,I94_Removal,ADD_FR_R,-1,-1;ADD_TO_R \"ADD_TO_R\" true true false 4 Long 0 0,First,#,I94_Removal,ADD_TO_R,-1,-1;PARITY_L \"PARITY_L\" true true false 4 Text 0 0,First,#,I94_Removal,PARITY_L,0,3;PARITY_R \"PARITY_R\" true true false 4 Text 0 0,First,#,I94_Removal,PARITY_R,0,3;ZIP_L \"ZIP_L\" true true false 5 Text 0 0,First,#,I94_Removal,ZIP_L,0,4;ZIP_R \"ZIP_R\" true true false 5 Text 0 0,First,#,I94_Removal,ZIP_R,0,4;CTU_NAME_L \"CTU_NAME_L\" true true false 100 Text 0 0,First,#,I94_Removal,CTU_NAME_L,0,99;CTU_NAME_R \"CTU_NAME_R\" true true false 100 Text 0 0,First,#,I94_Removal,CTU_NAME_R,0,99;CTU_ID_L \"CTU_ID_L\" true true false 8 Text 0 0,First,#,I94_Removal,CTU_ID_L,0,7;CTU_ID_R \"CTU_ID_R\" true true false 8 Text 0 0,First,#,I94_Removal,CTU_ID_R,0,7;POSTCOMM_L \"POSTCOMM_L\" true true false 40 Text 0 0,First,#,I94_Removal,POSTCOMM_L,0,39;POSTCOMM_R \"POSTCOMM_R\" true true false 40 Text 0 0,First,#,I94_Removal,POSTCOMM_R,0,39;CO_CODE_L \"CO_CODE_L\" true true false 5 Text 0 0,First,#,I94_Removal,CO_CODE_L,0,4;CO_CODE_R \"CO_CODE_R\" true true false 5 Text 0 0,First,#,I94_Removal,CO_CODE_R,0,4;CO_NAME_L \"CO_NAME_L\" true true false 40 Text 0 0,First,#,I94_Removal,CO_NAME_L,0,39;CO_NAME_R \"CO_NAME_R\" true true false 40 Text 0 0,First,#,I94_Removal,CO_NAME_R,0,39;STATE_L \"STATE_L\" true true false 2 Text 0 0,First,#,I94_Removal,STATE_L,0,1;STATE_R \"STATE_R\" true true false 2 Text 0 0,First,#,I94_Removal,STATE_R,0,1;ELEV_FROM \"ELEV_FROM\" true true false 4 Long 0 0,First,#,I94_Removal,ELEV_FROM,-1,-1;ELEV_TO \"ELEV_TO\" true true false 4 Long 0 0,First,#,I94_Removal,ELEV_TO,-1,-1;ONEWAY \"ONEWAY\" true true false 1 Text 0 0,First,#,I94_Removal,ONEWAY,0,254;SPEED_IMP \"SPEED_IMP\" true true false 4 Long 0 0,First,#,I94_Removal,SPEED_IMP,-1,-1;EMERG_ACC \"EMERG_ACC\" true true false 10 Text 0 0,First,#,I94_Removal,EMERG_ACC,0,9;ROUTESPEED \"ROUTESPEED\" true true false 4 Long 0 0,First,#,I94_Removal,ROUTESPEED,-1,-1;ROUTE_NUM \"ROUTE_NUM\" true true false 5 Text 0 0,First,#,I94_Removal,ROUTE_NUM,0,4;CARTOCLASS \"CARTOCLASS\" true true false 15 Text 0 0,First,#,I94_Removal,CARTOCLASS,0,14;GIS911POC \"GIS911POC\" true true false 75 Text 0 0,First,#,I94_Removal,GIS911POC,0,74;ESN_L \"ESN_L\" true true false 5 Text 0 0,First,#,I94_Removal,ESN_L,0,4;ESN_R \"ESN_R\" true true false 5 Text 0 0,First,#,I94_Removal,ESN_R,0,4;PSAP_L \"PSAP_L\" true true false 5 Text 0 0,First,#,I94_Removal,PSAP_L,0,4;PSAP_R \"PSAP_R\" true true false 5 Text 0 0,First,#,I94_Removal,PSAP_R,0,4;MSAG_C_L \"MSAG_C_L\" true true false 30 Text 0 0,First,#,I94_Removal,MSAG_C_L,0,29;MSAG_C_R \"MSAG_C_R\" true true false 30 Text 0 0,First,#,I94_Removal,MSAG_C_R,0,29;VALID_L \"VALID_L\" true true false 10 Text 0 0,First,#,I94_Removal,VALID_L,0,9;VALID_R \"VALID_R\" true true false 10 Text 0 0,First,#,I94_Removal,VALID_R,0,9;VERROR_911 \"VERROR_911\" true true false 10 Text 0 0,First,#,I94_Removal,VERROR_911,0,9;LST_PREDIR \"LST_PREDIR\" true true false 2 Text 0 0,First,#,I94_Removal,LST_PREDIR,0,1;LST_NAME \"LST_NAME\" true true false 75 Text 0 0,First,#,I94_Removal,LST_NAME,0,74;LST_TYPE \"LST_TYPE\" true true false 4 Text 0 0,First,#,I94_Removal,LST_TYPE,0,3;LST_POSDIR \"LST_POSDIR\" true true false 2 Text 0 0,First,#,I94_Removal,LST_POSDIR,0,1;STATUS \"STATUS\" true true false 20 Text 0 0,First,#,I94_Removal,STATUS,0,19;EFF_DATE \"EFF_DATE\" true true false 8 Date 0 0,First,#,I94_Removal,EFF_DATE,-1,-1;RET_DATE \"RET_DATE\" true true false 8 Date 0 0,First,#,I94_Removal,RET_DATE,-1,-1;EDIT_ORG \"EDIT_ORG\" true true false 40 Text 0 0,First,#,I94_Removal,EDIT_ORG,0,39;EDIT_DATE \"EDIT_DATE\" true true false 8 Date 0 0,First,#,I94_Removal,EDIT_DATE,-1,-1;FUNCLS_FED \"FUNCLS_FED\" true true false 1 Text 0 0,First,#,I94_Removal,FUNCLS_FED,0,254;FUNCLS_MET \"FUNCLS_MET\" true true false 3 Text 0 0,First,#,I94_Removal,FUNCLS_MET,0,2;SURF_TYPE \"SURF_TYPE\" true true false 32 Text 0 0,First,#,I94_Removal,SURF_TYPE,0,31;NUM_LANES \"NUM_LANES\" true true false 4 Long 0 0,First,#,I94_Removal,NUM_LANES,-1,-1;COMMENTS \"COMMENTS\" true true false 254 Text 0 0,First,#,I94_Removal,COMMENTS,0,253;Shape_Leng \"Shape_Leng\" true true false 8 Double 0 0,First,#,I94_Removal,Shape_Leng,-1,-1;Miles \"Miles\" true true false 8 Double 0 0,First,#,I94_Removal,Miles,-1,-1;Minutes \"Minutes\" true true false 8 Double 0 0,First,#,I94_Removal,Minutes,-1,-1;PRIVALLOWED \"PRIVALLOWED\" true true false 512 Text 0 0,First,#,I94_Removal,PRIVALLOWED,0,511;Class \"Class\" true true false 2 Short 0 0,First,#,I94_Removal,Class,-1,-1;REMOVE \"REMOVE\" true true false 512 Text 0 0,First,#,I94_Removal,REMOVE,0,511;Shape_Length \"Shape_Length\" false true true 8 Double 0 0,First,#,I94_Removal,Shape_Length,-1,-1',\n",
    "    sort_field=None\n",
    ")"
   ]
  },
  {
   "cell_type": "markdown",
   "metadata": {},
   "source": [
    "#### Create Feature Datasets and Import Centerlines"
   ]
  },
  {
   "cell_type": "code",
   "execution_count": null,
   "metadata": {},
   "outputs": [],
   "source": [
    "#Create Feature Dataset For Network\n",
    "\n",
    "with arcpy.EnvManager(outputCoordinateSystem='PROJCS[\"WGS_1984_Web_Mercator_Auxiliary_Sphere\",GEOGCS[\"GCS_WGS_1984\",DATUM[\"D_WGS_1984\",SPHEROID[\"WGS_1984\",6378137.0,298.257223563]],PRIMEM[\"Greenwich\",0.0],UNIT[\"Degree\",0.0174532925199433]],PROJECTION[\"Mercator_Auxiliary_Sphere\"],PARAMETER[\"False_Easting\",0.0],PARAMETER[\"False_Northing\",0.0],PARAMETER[\"Central_Meridian\",0.0],PARAMETER[\"Standard_Parallel_1\",0.0],PARAMETER[\"Auxiliary_Sphere_Type\",0.0],UNIT[\"Meter\",1.0]]'):\n",
    "    arcpy.management.CreateFeatureDataset(\n",
    "        out_dataset_path=r\"\\\\Mac\\Home\\Documents\\ArcGIS\\Projects\\FinalProjectStart\\MetroNetwork.gdb\",\n",
    "        out_name=\"MetroNetwork\",\n",
    "        spatial_reference='PROJCS[\"WGS_1984_Web_Mercator_Auxiliary_Sphere\",GEOGCS[\"GCS_WGS_1984\",DATUM[\"D_WGS_1984\",SPHEROID[\"WGS_1984\",6378137.0,298.257223563]],PRIMEM[\"Greenwich\",0.0],UNIT[\"Degree\",0.0174532925199433]],PROJECTION[\"Mercator_Auxiliary_Sphere\"],PARAMETER[\"False_Easting\",0.0],PARAMETER[\"False_Northing\",0.0],PARAMETER[\"Central_Meridian\",0.0],PARAMETER[\"Standard_Parallel_1\",0.0],PARAMETER[\"Auxiliary_Sphere_Type\",0.0],UNIT[\"Meter\",1.0]];-20037700 -30241100 10000;#;#;0.001;#;#;IsHighPrecision'\n",
    "    )\n",
    "\n",
    "    # Add Centerlines to Geodatabse\n",
    "arcpy.conversion.FeatureClassToGeodatabase(\n",
    "    Input_Features=r\"\\\\Mac\\Home\\Documents\\ArcGIS\\Projects\\FinalProjectStart\\Data\\RoadCenterline.shp\",\n",
    "    Output_Geodatabase=r\"\\\\Mac\\Home\\Documents\\ArcGIS\\Projects\\FinalProjectStart\\MetroNetwork.gdb\\MetroNetwork\"\n",
    ")\n",
    "\n",
    "with arcpy.EnvManager(outputCoordinateSystem='PROJCS[\"WGS_1984_Web_Mercator_Auxiliary_Sphere\",GEOGCS[\"GCS_WGS_1984\",DATUM[\"D_WGS_1984\",SPHEROID[\"WGS_1984\",6378137.0,298.257223563]],PRIMEM[\"Greenwich\",0.0],UNIT[\"Degree\",0.0174532925199433]],PROJECTION[\"Mercator_Auxiliary_Sphere\"],PARAMETER[\"False_Easting\",0.0],PARAMETER[\"False_Northing\",0.0],PARAMETER[\"Central_Meridian\",0.0],PARAMETER[\"Standard_Parallel_1\",0.0],PARAMETER[\"Auxiliary_Sphere_Type\",0.0],UNIT[\"Meter\",1.0]]'):\n",
    "    arcpy.management.CreateFeatureDataset(\n",
    "        out_dataset_path=r\"\\\\Mac\\Home\\Documents\\ArcGIS\\Projects\\FinalProjectStart\\MetroNetwork_Remove94.gdb\",\n",
    "        out_name=\"MetroNetwork94Remove\",\n",
    "        spatial_reference='PROJCS[\"WGS_1984_Web_Mercator_Auxiliary_Sphere\",GEOGCS[\"GCS_WGS_1984\",DATUM[\"D_WGS_1984\",SPHEROID[\"WGS_1984\",6378137.0,298.257223563]],PRIMEM[\"Greenwich\",0.0],UNIT[\"Degree\",0.0174532925199433]],PROJECTION[\"Mercator_Auxiliary_Sphere\"],PARAMETER[\"False_Easting\",0.0],PARAMETER[\"False_Northing\",0.0],PARAMETER[\"Central_Meridian\",0.0],PARAMETER[\"Standard_Parallel_1\",0.0],PARAMETER[\"Auxiliary_Sphere_Type\",0.0],UNIT[\"Meter\",1.0]];-20037700 -30241100 10000;#;#;0.001;#;#;IsHighPrecision'\n",
    "\n",
    "        # Add Centerlines to Geodatabse\n",
    "arcpy.conversion.FeatureClassToGeodatabase(\n",
    "    Input_Features=r\"\\\\Mac\\Home\\Documents\\ArcGIS\\Projects\\FinalProjectStart\\MetroNetwork.gdb\\MetroNetwork\\MetroCenterlines\",\n",
    "    Output_Geodatabase=r\"\\\\Mac\\Home\\Documents\\ArcGIS\\Projects\\FinalProjectStart\\MetroNetwork_Remove94.gdb\\MetroNetwork_Remove94\""
   ]
  },
  {
   "cell_type": "markdown",
   "metadata": {},
   "source": [
    "#### Add I-94 Removal Layer to Network without 94 Database\n",
    "This layer was created and shows what parts of I-94 would be removed"
   ]
  },
  {
   "cell_type": "code",
   "execution_count": null,
   "metadata": {},
   "outputs": [],
   "source": [
    "# Add 94 removal layer to Network Geodatabse\n",
    "arcpy.conversion.FeatureClassToGeodatabase(\n",
    "    Input_Features=r\"\\\\Mac\\Home\\Documents\\ArcGIS\\Projects\\FinalProjectStart\\FinalProjectStart.gdb\\I94_Removal\",\n",
    "    Output_Geodatabase=r\"\\\\Mac\\Home\\Documents\\ArcGIS\\Projects\\FinalProjectStart\\MetroNetwork_Remove94.gdb\\MetroNetwork_Remove94\"\n",
    ")"
   ]
  },
  {
   "cell_type": "markdown",
   "metadata": {},
   "source": [
    "#### Merge the I-94 Removal Layer with the Street Centerlines, Export New Centerlines Dataset"
   ]
  },
  {
   "cell_type": "code",
   "execution_count": null,
   "metadata": {},
   "outputs": [],
   "source": [
    "#Merge Remove Field\n",
    "arcpy.management.JoinField(\n",
    "    in_data=r\"\\\\Mac\\Home\\Documents\\ArcGIS\\Projects\\FinalProjectStart\\MetroNetwork_Remove94.gdb\\MetroNetwork_Remove94\\MetroCenterlines\",\n",
    "    in_field=\"ROADSEG_ID\",\n",
    "    join_table=r\"I94_Removal\",\n",
    "    join_field=\"ROADSEG_ID\",\n",
    "    fields=\"REMOVE\",\n",
    "    fm_option=\"NOT_USE_FM\",\n",
    "    field_mapping=None\n",
    ")\n",
    "\n",
    "#Export features without 94 to new feature dataset\n",
    "with arcpy.EnvManager(outputCoordinateSystem='PROJCS[\"WGS_1984_Web_Mercator_Auxiliary_Sphere\",GEOGCS[\"GCS_WGS_1984\",DATUM[\"D_WGS_1984\",SPHEROID[\"WGS_1984\",6378137.0,298.257223563]],PRIMEM[\"Greenwich\",0.0],UNIT[\"Degree\",0.0174532925199433]],PROJECTION[\"Mercator_Auxiliary_Sphere\"],PARAMETER[\"False_Easting\",0.0],PARAMETER[\"False_Northing\",0.0],PARAMETER[\"Central_Meridian\",0.0],PARAMETER[\"Standard_Parallel_1\",0.0],PARAMETER[\"Auxiliary_Sphere_Type\",0.0],UNIT[\"Meter\",1.0]]'):\n",
    "    arcpy.conversion.ExportFeatures(\n",
    "        in_features=r\"\\\\Mac\\Home\\Documents\\ArcGIS\\Projects\\FinalProjectStart\\MetroNetwork_Remove94.gdb\\MetroNetwork_Remove94\\MetroCenterlines\",\n",
    "        out_features=r\"\\\\Mac\\Home\\Documents\\ArcGIS\\Projects\\FinalProjectStart\\MetroNetwork_Remove94.gdb\\MetroNetwork94Remove\\Centerlines_Remove94\",\n",
    "        where_clause=\"REMOVE IS NULL And REMOVE_1 IS NULL\",\n",
    "        use_field_alias_as_name=\"NOT_USE_ALIAS\",\n",
    "        field_mapping='ROADSEG_ID \"ROADSEG_ID\" true true false 36 Text 0 0,First,#,MetroCenterlines,ROADSEG_ID,0,36;ROUTE_ID \"ROUTE_ID\" true true false 18 Text 0 0,First,#,MetroCenterlines,ROUTE_ID,0,18;ROUTE_SYS \"ROUTE_SYS\" true true false 2 Text 0 0,First,#,MetroCenterlines,ROUTE_SYS,0,2;ROUTE_DIR \"ROUTE_DIR\" true true false 1 Text 0 0,First,#,MetroCenterlines,ROUTE_DIR,0,1;LOC_STATE \"LOC_STATE\" true true false 10 Text 0 0,First,#,MetroCenterlines,LOC_STATE,0,10;PRIME_STAT \"PRIME_STAT\" true true false 10 Text 0 0,First,#,MetroCenterlines,PRIME_STAT,0,10;ST_PRE_MOD \"ST_PRE_MOD\" true true false 15 Text 0 0,First,#,MetroCenterlines,ST_PRE_MOD,0,15;ST_PRE_DIR \"ST_PRE_DIR\" true true false 9 Text 0 0,First,#,MetroCenterlines,ST_PRE_DIR,0,9;ST_PRE_TYP \"ST_PRE_TYP\" true true false 35 Text 0 0,First,#,MetroCenterlines,ST_PRE_TYP,0,35;ST_PRE_SEP \"ST_PRE_SEP\" true true false 20 Text 0 0,First,#,MetroCenterlines,ST_PRE_SEP,0,20;ST_NAME \"ST_NAME\" true true false 60 Text 0 0,First,#,MetroCenterlines,ST_NAME,0,60;ST_POS_TYP \"ST_POS_TYP\" true true false 15 Text 0 0,First,#,MetroCenterlines,ST_POS_TYP,0,15;ST_POS_DIR \"ST_POS_DIR\" true true false 9 Text 0 0,First,#,MetroCenterlines,ST_POS_DIR,0,9;ST_POS_MOD \"ST_POS_MOD\" true true false 15 Text 0 0,First,#,MetroCenterlines,ST_POS_MOD,0,15;ST_CONCAT \"ST_CONCAT\" true true false 150 Text 0 0,First,#,MetroCenterlines,ST_CONCAT,0,150;ST_NAME_A1 \"ST_NAME_A1\" true true false 150 Text 0 0,First,#,MetroCenterlines,ST_NAME_A1,0,150;A1_MSAG_V \"A1_MSAG_V\" true true false 7 Text 0 0,First,#,MetroCenterlines,A1_MSAG_V,0,7;ST_NAME_A2 \"ST_NAME_A2\" true true false 150 Text 0 0,First,#,MetroCenterlines,ST_NAME_A2,0,150;A2_MSAG_V \"A2_MSAG_V\" true true false 7 Text 0 0,First,#,MetroCenterlines,A2_MSAG_V,0,7;ST_NAME_A3 \"ST_NAME_A3\" true true false 150 Text 0 0,First,#,MetroCenterlines,ST_NAME_A3,0,150;A3_MSAG_V \"A3_MSAG_V\" true true false 7 Text 0 0,First,#,MetroCenterlines,A3_MSAG_V,0,7;ADD_FR_L \"ADD_FR_L\" true true false 4 Long 0 0,First,#,MetroCenterlines,ADD_FR_L,-1,-1;ADD_TO_L \"ADD_TO_L\" true true false 4 Long 0 0,First,#,MetroCenterlines,ADD_TO_L,-1,-1;ADD_FR_R \"ADD_FR_R\" true true false 4 Long 0 0,First,#,MetroCenterlines,ADD_FR_R,-1,-1;ADD_TO_R \"ADD_TO_R\" true true false 4 Long 0 0,First,#,MetroCenterlines,ADD_TO_R,-1,-1;PARITY_L \"PARITY_L\" true true false 4 Text 0 0,First,#,MetroCenterlines,PARITY_L,0,4;PARITY_R \"PARITY_R\" true true false 4 Text 0 0,First,#,MetroCenterlines,PARITY_R,0,4;ZIP_L \"ZIP_L\" true true false 5 Text 0 0,First,#,MetroCenterlines,ZIP_L,0,5;ZIP_R \"ZIP_R\" true true false 5 Text 0 0,First,#,MetroCenterlines,ZIP_R,0,5;CTU_NAME_L \"CTU_NAME_L\" true true false 100 Text 0 0,First,#,MetroCenterlines,CTU_NAME_L,0,100;CTU_NAME_R \"CTU_NAME_R\" true true false 100 Text 0 0,First,#,MetroCenterlines,CTU_NAME_R,0,100;CTU_ID_L \"CTU_ID_L\" true true false 8 Text 0 0,First,#,MetroCenterlines,CTU_ID_L,0,8;CTU_ID_R \"CTU_ID_R\" true true false 8 Text 0 0,First,#,MetroCenterlines,CTU_ID_R,0,8;POSTCOMM_L \"POSTCOMM_L\" true true false 40 Text 0 0,First,#,MetroCenterlines,POSTCOMM_L,0,40;POSTCOMM_R \"POSTCOMM_R\" true true false 40 Text 0 0,First,#,MetroCenterlines,POSTCOMM_R,0,40;CO_CODE_L \"CO_CODE_L\" true true false 5 Text 0 0,First,#,MetroCenterlines,CO_CODE_L,0,5;CO_CODE_R \"CO_CODE_R\" true true false 5 Text 0 0,First,#,MetroCenterlines,CO_CODE_R,0,5;CO_NAME_L \"CO_NAME_L\" true true false 40 Text 0 0,First,#,MetroCenterlines,CO_NAME_L,0,40;CO_NAME_R \"CO_NAME_R\" true true false 40 Text 0 0,First,#,MetroCenterlines,CO_NAME_R,0,40;STATE_L \"STATE_L\" true true false 2 Text 0 0,First,#,MetroCenterlines,STATE_L,0,2;STATE_R \"STATE_R\" true true false 2 Text 0 0,First,#,MetroCenterlines,STATE_R,0,2;ELEV_FROM \"ELEV_FROM\" true true false 4 Long 0 0,First,#,MetroCenterlines,ELEV_FROM,-1,-1;ELEV_TO \"ELEV_TO\" true true false 4 Long 0 0,First,#,MetroCenterlines,ELEV_TO,-1,-1;ONEWAY \"ONEWAY\" true true false 1 Text 0 0,First,#,MetroCenterlines,ONEWAY,0,1;SPEED_IMP \"SPEED_IMP\" true true false 4 Long 0 0,First,#,MetroCenterlines,SPEED_IMP,-1,-1;EMERG_ACC \"EMERG_ACC\" true true false 10 Text 0 0,First,#,MetroCenterlines,EMERG_ACC,0,10;ROUTESPEED \"ROUTESPEED\" true true false 4 Long 0 0,First,#,MetroCenterlines,ROUTESPEED,-1,-1;ROUTE_NUM \"ROUTE_NUM\" true true false 5 Text 0 0,First,#,MetroCenterlines,ROUTE_NUM,0,5;CARTOCLASS \"CARTOCLASS\" true true false 15 Text 0 0,First,#,MetroCenterlines,CARTOCLASS,0,15;GIS911POC \"GIS911POC\" true true false 75 Text 0 0,First,#,MetroCenterlines,GIS911POC,0,75;ESN_L \"ESN_L\" true true false 5 Text 0 0,First,#,MetroCenterlines,ESN_L,0,5;ESN_R \"ESN_R\" true true false 5 Text 0 0,First,#,MetroCenterlines,ESN_R,0,5;PSAP_L \"PSAP_L\" true true false 5 Text 0 0,First,#,MetroCenterlines,PSAP_L,0,5;PSAP_R \"PSAP_R\" true true false 5 Text 0 0,First,#,MetroCenterlines,PSAP_R,0,5;MSAG_C_L \"MSAG_C_L\" true true false 30 Text 0 0,First,#,MetroCenterlines,MSAG_C_L,0,30;MSAG_C_R \"MSAG_C_R\" true true false 30 Text 0 0,First,#,MetroCenterlines,MSAG_C_R,0,30;VALID_L \"VALID_L\" true true false 10 Text 0 0,First,#,MetroCenterlines,VALID_L,0,10;VALID_R \"VALID_R\" true true false 10 Text 0 0,First,#,MetroCenterlines,VALID_R,0,10;VERROR_911 \"VERROR_911\" true true false 10 Text 0 0,First,#,MetroCenterlines,VERROR_911,0,10;LST_PREDIR \"LST_PREDIR\" true true false 2 Text 0 0,First,#,MetroCenterlines,LST_PREDIR,0,2;LST_NAME \"LST_NAME\" true true false 75 Text 0 0,First,#,MetroCenterlines,LST_NAME,0,75;LST_TYPE \"LST_TYPE\" true true false 4 Text 0 0,First,#,MetroCenterlines,LST_TYPE,0,4;LST_POSDIR \"LST_POSDIR\" true true false 2 Text 0 0,First,#,MetroCenterlines,LST_POSDIR,0,2;STATUS \"STATUS\" true true false 20 Text 0 0,First,#,MetroCenterlines,STATUS,0,20;EFF_DATE \"EFF_DATE\" true true false 8 Date 0 0,First,#,MetroCenterlines,EFF_DATE,-1,-1;RET_DATE \"RET_DATE\" true true false 8 Date 0 0,First,#,MetroCenterlines,RET_DATE,-1,-1;EDIT_ORG \"EDIT_ORG\" true true false 40 Text 0 0,First,#,MetroCenterlines,EDIT_ORG,0,40;EDIT_DATE \"EDIT_DATE\" true true false 8 Date 0 0,First,#,MetroCenterlines,EDIT_DATE,-1,-1;FUNCLS_FED \"FUNCLS_FED\" true true false 1 Text 0 0,First,#,MetroCenterlines,FUNCLS_FED,0,1;FUNCLS_MET \"FUNCLS_MET\" true true false 3 Text 0 0,First,#,MetroCenterlines,FUNCLS_MET,0,3;SURF_TYPE \"SURF_TYPE\" true true false 32 Text 0 0,First,#,MetroCenterlines,SURF_TYPE,0,32;NUM_LANES \"NUM_LANES\" true true false 4 Long 0 0,First,#,MetroCenterlines,NUM_LANES,-1,-1;COMMENTS \"COMMENTS\" true true false 254 Text 0 0,First,#,MetroCenterlines,COMMENTS,0,254;Shape_Leng \"Shape_Leng\" true true false 8 Double 0 0,First,#,MetroCenterlines,Shape_Leng,-1,-1;Miles \"Miles\" true true false 8 Double 0 0,First,#,MetroCenterlines,Miles,-1,-1;Minutes \"Minutes\" true true false 8 Double 0 0,First,#,MetroCenterlines,Minutes,-1,-1;PRIVALLOWED \"PRIVALLOWED\" true true false 512 Text 0 0,First,#,MetroCenterlines,PRIVALLOWED,0,512;Class \"Class\" true true false 2 Short 0 0,First,#,MetroCenterlines,Class,-1,-1;Shape_Length \"Shape_Length\" false true true 8 Double 0 0,First,#,MetroCenterlines,Shape_Length,-1,-1;REMOVE \"REMOVE\" true true false 512 Text 0 0,First,#,MetroCenterlines,REMOVE,0,512',\n",
    "        sort_field=None\n",
    "    )\n",
    "\n",
    "#Delete Feature Dataset with Old Centerlines\n",
    "arcpy.Delete_management(r\"\\\\Mac\\Home\\Documents\\ArcGIS\\Projects\\FinalProjectStart\\MetroNetwork_Remove94.gdb\\MetroNetwork_Remove94\")"
   ]
  },
  {
   "cell_type": "markdown",
   "metadata": {},
   "source": [
    "### Build and Create Network\n",
    "Creating network from built template"
   ]
  },
  {
   "cell_type": "code",
   "execution_count": null,
   "metadata": {},
   "outputs": [],
   "source": [
    "#Create Network Dataset with 94\n",
    "arcpy.na.CreateNetworkDatasetFromTemplate(\n",
    "    network_dataset_template=r\"\\\\Mac\\Home\\Documents\\ArcGIS\\Projects\\FinalProjectStart\\BaseTemplate.xml\",\n",
    "    output_feature_dataset=r\"\\\\Mac\\Home\\Documents\\ArcGIS\\Projects\\FinalProjectStart\\MetroNetwork.gdb\\MetroNetwork\"\n",
    ")\n",
    "\n",
    "#Create Network Dataset without 94\n",
    "arcpy.na.CreateNetworkDatasetFromTemplate(\n",
    "    network_dataset_template=r\"\\\\Mac\\Home\\Documents\\ArcGIS\\Projects\\FinalProjectStart\\BaseTemplate.xml\",\n",
    "    output_feature_dataset=r\"\\\\Mac\\Home\\Documents\\ArcGIS\\Projects\\FinalProjectStart\\MetroNetwork_Remove94.gdb\\MetroNetwork94Remove\"\n",
    ")"
   ]
  },
  {
   "cell_type": "markdown",
   "metadata": {},
   "source": [
    "#### Build the Networks"
   ]
  },
  {
   "cell_type": "code",
   "execution_count": null,
   "metadata": {},
   "outputs": [],
   "source": [
    "#Build the Network with 94\n",
    "arcpy.na.BuildNetwork(\n",
    "    in_network_dataset=r\"\\\\Mac\\Home\\Documents\\ArcGIS\\Projects\\FinalProjectStart\\MetroNetwork.gdb\\MetroNetwork\\MetroNetworkOG\"\n",
    ")\n",
    "\n",
    "#Build the Network without 94\n",
    "arcpy.na.BuildNetwork(\n",
    "    in_network_dataset=r\"\\\\Mac\\Home\\Documents\\ArcGIS\\Projects\\FinalProjectStart\\MetroNetwork_Remove94.gdb\\MetroNetwork94Remove\\MetroNetwork94\"\n",
    ")"
   ]
  },
  {
   "cell_type": "code",
   "execution_count": null,
   "metadata": {},
   "outputs": [],
   "source": []
  }
 ],
 "metadata": {
  "kernelspec": {
   "display_name": "ArcGISPro",
   "language": "Python",
   "name": "python3"
  },
  "language_info": {
   "file_extension": ".py",
   "name": "python",
   "version": "3"
  }
 },
 "nbformat": 4,
 "nbformat_minor": 2
}
