{
 "cells": [
  {
   "cell_type": "code",
   "execution_count": 1,
   "metadata": {},
   "outputs": [],
   "source": [
    "import requests\n",
    "import arcpy\n",
    "import os\n",
    "import zipfile"
   ]
  },
  {
   "cell_type": "code",
   "execution_count": 10,
   "metadata": {},
   "outputs": [
    {
     "name": "stdout",
     "output_type": "stream",
     "text": [
      "ZIP file extracted to: \\\\Mac\\Home\\Documents\\ArcGIS\\Projects\\FinalProjectStart\\Data\n"
     ]
    }
   ],
   "source": [
    "zipfile_url = r'https://resources.gisdata.mn.gov/pub/gdrs/data/pub/us_mn_state_metrogis/trans_road_centerlines_gac/shp_trans_road_centerlines_gac.zip'\n",
    "download_directory = r'\\\\Mac\\Home\\Documents\\ArcGIS\\Projects\\FinalProjectStart\\Data'\n",
    "extract_directory = r'\\\\Mac\\Home\\Documents\\ArcGIS\\Projects\\FinalProjectStart\\Data'\n",
    "\n",
    "response = requests.get(zipfile_url)\n",
    "\n",
    "if response.status_code == 200:\n",
    "    zip_filename = os.path.basename(zipfile_url)\n",
    "    zip_file_path = os.pa11 th.join(download_directory, zip_filename)\n",
    "\n",
    "    with open(zip_file_path, 'wb') as f:\n",
    "        f.write(response.content)\n",
    "\n",
    "with zipfile.ZipFile(zip_file_path, 'r') as zip_ref:\n",
    "    zip_ref.extractall(extract_directory)\n",
    "    print(f'ZIP file extracted to: {extract_directory}')\n",
    "\n",
    "os.remove(zip_file_path)"
   ]
  },
  {
   "cell_type": "code",
   "execution_count": null,
   "metadata": {},
   "outputs": [],
   "source": [
    "#Calculate Speeds and Distances\n",
    "arcpy.management.CalculateField(\n",
    "    in_table=\"RoadCenterline\",\n",
    "    field=\"Miles\",\n",
    "    expression=\" nC\",\n",
    "    expression_type=\"PYTHON3\",\n",
    "    code_block=\"\",\n",
    "    field_type=\"FLOAT\",\n",
    "    enforce_domains=\"NO_ENFORCE_DOMAINS\"\n",
    ")\n",
    "\n",
    "arcpy.management.CalculateField(\n",
    "    in_table=\"RoadCenterline\",\n",
    "    field=\"Minutes\",\n",
    "    expression=\"(!Miles!/!SPEED_IMP!)*60\",\n",
    "    expression_type=\"PYTHON3\",\n",
    "    code_block=\"\",\n",
    "    field_type=\"DOUBLE\",\n",
    "    enforce_domains=\"NO_ENFORCE_DOMAINS\"\n",
    ")"
   ]
  },
  {
   "cell_type": "code",
   "execution_count": 12,
   "metadata": {},
   "outputs": [],
   "source": [
    "#Create Feature Dataset For Network\n",
    "\n",
    "with arcpy.EnvManager(outputCoordinateSystem='PROJCS[\"WGS_1984_Web_Mercator_Auxiliary_Sphere\",GEOGCS[\"GCS_WGS_1984\",DATUM[\"D_WGS_1984\",SPHEROID[\"WGS_1984\",6378137.0,298.257223563]],PRIMEM[\"Greenwich\",0.0],UNIT[\"Degree\",0.0174532925199433]],PROJECTION[\"Mercator_Auxiliary_Sphere\"],PARAMETER[\"False_Easting\",0.0],PARAMETER[\"False_Northing\",0.0],PARAMETER[\"Central_Meridian\",0.0],PARAMETER[\"Standard_Parallel_1\",0.0],PARAMETER[\"Auxiliary_Sphere_Type\",0.0],UNIT[\"Meter\",1.0]]'):\n",
    "    arcpy.management.CreateFeatureDataset(\n",
    "        out_dataset_path=r\"\\\\Mac\\Home\\Documents\\ArcGIS\\Projects\\FinalProjectStart\\MetroNetwork.gdb\",\n",
    "        out_name=\"MetroNetwork\",\n",
    "        spatial_reference='PROJCS[\"WGS_1984_Web_Mercator_Auxiliary_Sphere\",GEOGCS[\"GCS_WGS_1984\",DATUM[\"D_WGS_1984\",SPHEROID[\"WGS_1984\",6378137.0,298.257223563]],PRIMEM[\"Greenwich\",0.0],UNIT[\"Degree\",0.0174532925199433]],PROJECTION[\"Mercator_Auxiliary_Sphere\"],PARAMETER[\"False_Easting\",0.0],PARAMETER[\"False_Northing\",0.0],PARAMETER[\"Central_Meridian\",0.0],PARAMETER[\"Standard_Parallel_1\",0.0],PARAMETER[\"Auxiliary_Sphere_Type\",0.0],UNIT[\"Meter\",1.0]];-20037700 -30241100 10000;#;#;0.001;#;#;IsHighPrecision'\n",
    "    )"
   ]
  },
  {
   "cell_type": "code",
   "execution_count": 13,
   "metadata": {},
   "outputs": [
    {
     "data": {
      "text/html": [
       "<div class='gpresult'><h2>Messages</h2><div id='messages' data-messages='[\"Start Time: Tuesday, October 24, 2023 12:53:13 PM\",\"\\\\\\\\Mac\\\\Home\\\\Documents\\\\ArcGIS\\\\Projects\\\\FinalProjectStart\\\\Data\\\\RoadCenterline.shp Successfully converted:  \\\\\\\\Mac\\\\Home\\\\Documents\\\\ArcGIS\\\\Projects\\\\FinalProjectStart\\\\MetroNetwork.gdb\\\\MetroNetwork\\\\RoadCenterline\",\"Succeeded at Tuesday, October 24, 2023 12:54:32 PM (Elapsed Time: 1 minutes 18 seconds)\"]' data-show='true'><div id = 'default' /></div></div>"
      ],
      "text/plain": [
       "<Result '\\\\\\\\Mac\\\\Home\\\\Documents\\\\ArcGIS\\\\Projects\\\\FinalProjectStart\\\\MetroNetwork.gdb\\\\MetroNetwork'>"
      ]
     },
     "execution_count": 13,
     "metadata": {},
     "output_type": "execute_result"
    }
   ],
   "source": [
    "# Add Centerlines to Network Geodatabse\n",
    "arcpy.conversion.FeatureClassToGeodatabase(\n",
    "    Input_Features=r\"\\\\Mac\\Home\\Documents\\ArcGIS\\Projects\\FinalProjectStart\\Data\\RoadCenterline.shp\",\n",
    "    Output_Geodatabase=r\"\\\\Mac\\Home\\Documents\\ArcGIS\\Projects\\FinalProjectStart\\MetroNetwork.gdb\\MetroNetwork\"\n",
    ")"
   ]
  },
  {
   "cell_type": "code",
   "execution_count": 3,
   "metadata": {},
   "outputs": [
    {
     "data": {
      "text/html": [
       "<div class='gpresult'><h2>Messages</h2><div id='messages' data-messages='[\"Start Time: Tuesday, October 24, 2023 11:56:08 AM\",\"Succeeded at Tuesday, October 24, 2023 11:56:13 AM (Elapsed Time: 4.58 seconds)\"]' data-show='true'><div id = 'default' /></div></div>"
      ],
      "text/plain": [
       "<Result '\\\\\\\\Mac\\\\Home\\\\Documents\\\\ArcGIS\\\\Projects\\\\FinalProjectStart\\\\FinalProjectStart.gdb\\\\Network\\\\NetworkWith94'>"
      ]
     },
     "execution_count": 3,
     "metadata": {},
     "output_type": "execute_result"
    }
   ],
   "source": [
    "arcpy.na.CreateNetworkDataset(\n",
    "    feature_dataset=r\"\\\\Mac\\Home\\Documents\\ArcGIS\\Projects\\FinalProjectStart\\MetroNetwork.gdb\\MetroNetwork\",\n",
    "    out_name=\"MetroNetworkOG\",\n",
    "    source_feature_class_names=\"RoadCenterline\",\n",
    "    elevation_model=\"ELEVATION_FIELDS\"\n",
    ")"
   ]
  },
  {
   "cell_type": "code",
   "execution_count": 20,
   "metadata": {},
   "outputs": [
    {
     "data": {
      "text/html": [
       "<div class='gpresult'><h2>Messages</h2><div id='messages' data-messages='[\"Start Time: Friday, October 27, 2023 1:42:26 PM\",\"Succeeded at Friday, October 27, 2023 1:42:28 PM (Elapsed Time: 1.27 seconds)\"]' data-show='true'><div id = 'default' /></div></div>"
      ],
      "text/plain": [
       "<Result '\\\\\\\\Mac\\\\Home\\\\Documents\\\\ArcGIS\\\\Projects\\\\FinalProjectStart\\\\BaseTemplate.xml'>"
      ]
     },
     "execution_count": 20,
     "metadata": {},
     "output_type": "execute_result"
    }
   ],
   "source": [
    "arcpy.na.CreateTemplateFromNetworkDataset(\n",
    "    network_dataset=\"MetroNetworkOG\",\n",
    "    output_network_dataset_template=r\"\\\\Mac\\Home\\Documents\\ArcGIS\\Projects\\FinalProjectStart\\BaseTemplate.xml\"\n",
    ")"
   ]
  },
  {
   "cell_type": "code",
   "execution_count": 1,
   "metadata": {},
   "outputs": [
    {
     "data": {
      "text/html": [
       "<div class='gpresult'><h2>Messages</h2><div id='messages' data-messages='[\"Start Time: Tuesday, October 24, 2023 1:30:27 PM\",\"Succeeded at Tuesday, October 24, 2023 1:31:55 PM (Elapsed Time: 1 minutes 28 seconds)\"]' data-show='true'><div id = 'default' /></div></div>"
      ],
      "text/plain": [
       "<Result '\\\\\\\\Mac\\\\Home\\\\Documents\\\\ArcGIS\\\\Projects\\\\FinalProjectStart\\\\MetroNetwork.gdb\\\\MetroNetwork\\\\MetroNetworkOG'>"
      ]
     },
     "execution_count": 1,
     "metadata": {},
     "output_type": "execute_result"
    }
   ],
   "source": [
    "#Build the Network\n",
    "arcpy.na.BuildNetwork(\n",
    "    in_network_dataset=r\"\\\\Mac\\Home\\Documents\\ArcGIS\\Projects\\FinalProjectStart\\MetroNetwork.gdb\\MetroNetwork\\MetroNetworkOG\"\n",
    ")"
   ]
  },
  {
   "cell_type": "code",
   "execution_count": 2,
   "metadata": {},
   "outputs": [
    {
     "data": {
      "text/html": [
       "<div class='gpresult'><h2>Messages</h2><div id='messages' data-messages='[\"Start Time: Tuesday, October 24, 2023 1:35:28 PM\",\"New analysis data source feature dataset: \\\\\\\\Mac\\\\Home\\\\Documents\\\\ArcGIS\\\\Projects\\\\FinalProjectStart\\\\FinalProjectStart.gdb\\\\ServiceAreaSolvershxq27.\",\"Succeeded at Tuesday, October 24, 2023 1:35:31 PM (Elapsed Time: 2.89 seconds)\"]' data-show='true'><div id = 'default' /></div></div>"
      ],
      "text/plain": [
       "<Result 'Service Area'>"
      ]
     },
     "execution_count": 2,
     "metadata": {},
     "output_type": "execute_result"
    }
   ],
   "source": [
    "#Make Service Area Analysis Layer\n",
    "n(\n",
    "    network_data_source=r\"\\\\Mac\\Home\\Documents\\ArcGIS\\Projects\\FinalProjectStart\\MetroNetwork.gdb\\MetroNetwork\\MetroNetworkOG\",\n",
    "    layer_name=\"Service Area\",\n",
    "    travel_mode=\"\",\n",
    "    travel_direction=\"FROM_FACILITIES\",\n",
    "    cutoffs=[5,10,20],\n",
    "    time_of_day=None,\n",
    "    time_zone=\"LOCAL_TIME_AT_LOCATIONS\",\n",
    "    output_type=\"POLYGONS\",\n",
    "    polygon_detail=\"STANDARD\",\n",
    "    geometry_at_overlaps=\"OVERLAP\",\n",
    "    geometry_at_cutoffs=\"RINGS\",\n",
    "    polygon_trim_distance=\"10 Meters\",\n",
    "    exclude_sources_from_polygon_generation=None,\n",
    "    accumulate_attributes=None,\n",
    "    ignore_invalid_locations=\"SKIP\"\n",
    ")"
   ]
  },
  {
   "cell_type": "code",
   "execution_count": 9,
   "metadata": {},
   "outputs": [
    {
     "data": {
      "text/html": [
       "<div class='gpresult'><h2>Messages</h2><div id='messages' data-messages='[\"Start Time: Tuesday, October 24, 2023 12:30:58 PM\",\"WARNING 030182: Your input locations are 3D, but your network data source is 2D.  Points will be located on the network as if they were in a 2D plane, ignoring all Z coordinates.\",\"WARNING 030184: Your input locations are 3D, but they have an unknown Z coordinate system.  Points will be located on the network as if they were in a 2D plane, ignoring all Z coordinates.\",\"1 features located out of 1.\",\"Succeeded at Tuesday, October 24, 2023 12:31:04 PM (Elapsed Time: 6.07 seconds)\"]' data-show='true'><div id = 'default' /></div></div>"
      ],
      "text/plain": [
       "<Result 'Service Area'>"
      ]
     },
     "execution_count": 9,
     "metadata": {},
     "output_type": "execute_result"
    }
   ],
   "source": [
    "arcpy.na.AddLocations(\n",
    "    in_network_analysis_layer=\"Service Area\",\n",
    "    sub_layer=\"Facilities\",\n",
    "    in_table=\"Facilities\",\n",
    "    field_mappings=\"Name Name #;CurbApproach # 0;Attr_Minutes # 0;Attr_Miles # 0;Breaks_Minutes # #;Breaks_Miles # #\",\n",
    "    search_tolerance=\"5000 Meters\",\n",
    "    sort_field=None,\n",
    "    search_criteria=\"MetroCenterlines SHAPE;MetroNetworkOG_Junctions NONE\",\n",
    "    match_type=\"MATCH_TO_CLOSEST\",\n",
    "    append=\"APPEND\",\n",
    "    snap_to_position_along_network=\"NO_SNAP\",\n",
    "    snap_offset=\"5 Meters\",\n",
    "    exclude_restricted_elements=\"EXCLUDE\",\n",
    "    search_query=None,\n",
    "    allow_auto_relocate=\"ALLOW\"\n",
    ")"
   ]
  },
  {
   "cell_type": "code",
   "execution_count": 10,
   "metadata": {},
   "outputs": [
    {
     "data": {
      "text/html": [
       "<div class='gpresult'><h2>Messages</h2><div id='messages' data-messages='[\"Start Time: Tuesday, October 24, 2023 12:31:04 PM\",\"Succeeded at Tuesday, October 24, 2023 12:31:19 PM (Elapsed Time: 14.92 seconds)\"]' data-show='true'><div id = 'default' /></div></div>"
      ],
      "text/plain": [
       "<Result 'Service Area'>"
      ]
     },
     "execution_count": 10,
     "metadata": {},
     "output_type": "execute_result"
    }
   ],
   "source": [
    "arcpy.na.Solve(\n",
    "    in_network_analysis_layer=\"Service Area\",\n",
    "    ignore_invalids=\"SKIP\",\n",
    "    terminate_on_solve_error=\"TERMINATE\",\n",
    "    simplification_tolerance=None,\n",
    "    overrides=\"\"\n",
    ")"
   ]
  },
  {
   "cell_type": "code",
   "execution_count": null,
   "metadata": {},
   "outputs": [],
   "source": []
  }
 ],
 "metadata": {
  "kernelspec": {
   "display_name": "ArcGISPro",
   "language": "Python",
   "name": "python3"
  },
  "language_info": {
   "file_extension": ".py",
   "name": "python",
   "version": "3"
  }
 },
 "nbformat": 4,
 "nbformat_minor": 2
}
