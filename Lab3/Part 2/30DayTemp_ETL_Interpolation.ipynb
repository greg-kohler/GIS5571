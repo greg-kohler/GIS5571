{
 "cells": [
  {
   "cell_type": "code",
   "execution_count": null,
   "metadata": {
    "scrolled": true
   },
   "outputs": [],
   "source": [
    "import requests\n",
    "import os\n",
    "import pandas\n",
    "import geopandas\n",
    "from shapely.geometry import Point"
   ]
  },
  {
   "cell_type": "markdown",
   "metadata": {},
   "source": [
    "### Loop Through for Avg, Max, and Min Temps"
   ]
  },
  {
   "cell_type": "code",
   "execution_count": null,
   "metadata": {
    "scrolled": true
   },
   "outputs": [],
   "source": [
    "#Define URL from NDAWN API\n",
    "variablelist = ['ddavt','ddmxt','ddmnt']\n",
    "#Loop through variables\n",
    "for temp in variablelist:\n",
    "    ndurl = fr'https://ndawn.ndsu.nodak.edu/table.csv?station=78&station=111&station=98&station=162&station=174&station=142&station=164&station=138&station=161&station=9&station=160&station=159&station=10&station=118&station=56&station=165&station=11&station=12&station=58&station=13&station=84&station=55&station=179&station=7&station=186&station=87&station=14&station=15&station=96&station=191&station=16&station=201&station=137&station=124&station=143&station=17&station=85&station=140&station=134&station=18&station=136&station=65&station=104&station=99&station=192&station=19&station=129&station=20&station=101&station=166&station=178&station=81&station=21&station=97&station=22&station=75&station=184&station=2&station=172&station=139&station=158&station=23&station=157&station=62&station=86&station=24&station=89&station=126&station=167&station=93&station=183&station=90&station=25&station=83&station=107&station=156&station=77&station=26&station=155&station=70&station=127&station=144&station=27&station=173&station=132&station=28&station=195&station=185&station=29&station=30&station=154&station=31&station=187&station=102&station=32&station=119&station=4&station=80&station=33&station=59&station=153&station=105&station=82&station=34&station=198&station=72&station=135&station=35&station=76&station=120&station=141&station=109&station=36&station=79&station=193&station=71&station=37&station=38&station=189&station=39&station=130&station=73&station=188&station=40&station=41&station=54&station=69&station=194&station=145&station=113&station=128&station=42&station=43&station=103&station=171&station=116&station=196&station=88&station=114&station=3&station=163&station=200&station=64&station=115&station=168&station=67&station=175&station=146&station=170&station=197&station=44&station=133&station=106&station=100&station=121&station=45&station=46&station=61&station=66&station=181&station=74&station=60&station=199&station=125&station=176&station=177&station=8&station=180&station=204&station=47&station=122&station=108&station=5&station=152&station=48&station=151&station=147&station=68&station=169&station=49&station=50&station=91&station=182&station=117&station=63&station=150&station=51&station=6&station=52&station=92&station=112&station=131&station=123&station=95&station=53&station=203&station=190&station=57&station=149&station=148&station=202&station=110&variable={temp}&ttype=daily&quick_pick=30_d'\n",
    "    #Define Name and Location of New CSV\n",
    "    ndoutput = fr\"\\\\Mac\\Home\\Documents\\ArcGIS\\Projects\\Lab3-2\\Lab3Data\\NDAWN_30Day_{temp}_Raw.csv\"\n",
    "    #Pulls CSV from URL\n",
    "    ndresponse = requests.get(ndurl, stream=True)\n",
    "    #Writing CSV to file on local drive if status code is correct.\n",
    "    if ndresponse.status_code == 200:\n",
    "        with open(ndoutput, 'wb') as file:\n",
    "            file.write(ndresponse.content)\n",
    "\n",
    "    #Reads CSV file\n",
    "    nddataframe = pandas.read_csv(fr\"\\\\Mac\\Home\\Documents\\ArcGIS\\Projects\\Lab3-2\\Lab3Data\\NDAWN_30Day_{temp}_Raw.csv\", skiprows=4, index_col=False)\n",
    "    #Defines new names for CSV Headers\n",
    "    new_names = ['Location', 'Lat', 'Long', 'Elevation ft', 'Year', 'Month', 'Day', f'{temp}', 'Flag']\n",
    "    nddataframe.columns = new_names\n",
    "    #Saves New Names to CSV\n",
    "    nddataframe.to_csv(fr\"\\\\Mac\\Home\\Documents\\ArcGIS\\Projects\\Lab3-2\\Lab3Data\\NDAWN_30Day_{temp}.csv\", index=False) \n",
    "    \n",
    "     # Read the CSV file into a DataFrame, Information on how to do the groupby provided by OpenAI,2023\n",
    "    nddataframe = pandas.read_csv(fr\"\\\\Mac\\Home\\Documents\\ArcGIS\\Projects\\Lab3-2\\Lab3Data\\NDAWN_30Day_{temp}.csv\")\n",
    "\n",
    "    # Group the columns with the same station names and average the temp\n",
    "    ndresult = nddataframe.groupby(['Lat','Long','Location'])[f'{temp}'].mean().reset_index()\n",
    "    \n",
    "    #Save to CSV\n",
    "    ndresult.to_csv(fr\"\\\\Mac\\Home\\Documents\\ArcGIS\\Projects\\Lab3-2\\Lab3Data\\NDAWN_30Day_{temp}_Avg.csv\", index=False)\n",
    "    #Read CSV \n",
    "    ndresult = pandas.read_csv(fr\"\\\\Mac\\Home\\Documents\\ArcGIS\\Projects\\Lab3-2\\Lab3Data\\NDAWN_30Day_{temp}_Avg.csv\")\n",
    "    #Create points with Lat and long coordinates\n",
    "    ndgeometry = [Point(xy) for xy in zip(ndresult['Long'], ndresult['Lat'])]\n",
    "    ndgeoframe = geopandas.GeoDataFrame(ndresult, geometry=ndgeometry, crs='4326')\n",
    "    #Write geometry to shapefile\n",
    "    ndgeoframe.to_file(fr'\\\\Mac\\Home\\Documents\\ArcGIS\\Projects\\Lab3-2\\Lab3Data\\ND30Day_{temp}.shp') "
   ]
  },
  {
   "cell_type": "markdown",
   "metadata": {},
   "source": [
    "### Loop Through Points for Different Interpolation Methods"
   ]
  },
  {
   "cell_type": "code",
   "execution_count": null,
   "metadata": {},
   "outputs": [],
   "source": [
    "#List of Temp Variables\n",
    "variablelist = ['ddavt','ddmxt','ddmnt']\n",
    "#Loop through Variables\n",
    "for temp in variablelist:\n",
    "    #Inverse Distance Weighting\n",
    "    arcpy.ddd.Idw(\n",
    "        in_point_features=fr'\\\\Mac\\Home\\Documents\\ArcGIS\\Projects\\Lab3-2\\Lab3Data\\ND30Day_{temp}.shp',\n",
    "        z_field=temp,\n",
    "        out_raster=fr\"\\\\Mac\\Home\\Documents\\ArcGIS\\Projects\\Lab3-2\\Lab3-2.gdb\\IDW_{temp}\",\n",
    "        power=2,\n",
    "        in_barrier_polyline_features=None\n",
    "    )\n",
    "    #Empiricial Bayesian Kriging\n",
    "    arcpy.ga.EmpiricalBayesianKriging(\n",
    "        in_features=fr'\\\\Mac\\Home\\Documents\\ArcGIS\\Projects\\Lab3-2\\Lab3Data\\ND30Day_{temp}.shp',\n",
    "        z_field=temp,\n",
    "        out_ga_layer=None,\n",
    "        out_raster=fr'\\\\Mac\\Home\\Documents\\ArcGIS\\Projects\\Lab3-2\\Lab3-2.gdb\\Kriging_{temp}',\n",
    "    )\n",
    "    #Diffusion Interpolation\n",
    "    arcpy.ga.DiffusionInterpolationWithBarriers(\n",
    "        in_features=fr'\\\\Mac\\Home\\Documents\\ArcGIS\\Projects\\Lab3-2\\Lab3Data\\ND30Day_{temp}.shp',\n",
    "        z_field=temp,\n",
    "        out_raster=fr\"\\\\Mac\\Home\\Documents\\ArcGIS\\Projects\\Lab3-2\\Lab3-2.gdb\\Diffusion_{temp}\",\n",
    "        number_iterations=100,\n",
    "    )"
   ]
  }
 ],
 "metadata": {
  "kernelspec": {
   "display_name": "ArcGISPro",
   "language": "Python",
   "name": "python3"
  },
  "language_info": {
   "file_extension": ".py",
   "name": "python",
   "version": "3"
  }
 },
 "nbformat": 4,
 "nbformat_minor": 2
}
