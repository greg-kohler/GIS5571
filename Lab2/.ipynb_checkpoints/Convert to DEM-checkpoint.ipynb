{
 "cells": [
  {
   "cell_type": "code",
   "execution_count": null,
   "metadata": {},
   "outputs": [],
   "source": [
    "import arcpy\n",
    "import os"
   ]
  },
  {
   "cell_type": "markdown",
   "metadata": {},
   "source": [
    "### Convert LAS File to DEM ###"
   ]
  },
  {
   "cell_type": "code",
   "execution_count": null,
   "metadata": {
    "scrolled": true
   },
   "outputs": [],
   "source": [
    "arcpy.conversion.LasDatasetToRaster(\n",
    "    in_las_dataset=\"DNR.lasd\",\n",
    "    out_raster=r\"c:\\Users\\gregkohler1\\GIS\\Lab2\\Lab2\\Lab2.gdb\\dnr_DEM\",\n",
    "    value_field=\"ELEVATION\",\n",
    ")"
   ]
  },
  {
   "cell_type": "markdown",
   "metadata": {},
   "source": [
    "### Print Layer to PDF using Layout"
   ]
  },
  {
   "cell_type": "code",
   "execution_count": null,
   "metadata": {},
   "outputs": [],
   "source": [
    "# Set up the ArcGIS Pro project\n",
    "project = arcpy.mp.ArcGISProject(\"CURRENT\")\n",
    "\n",
    "# Specify the map containing the DEM layer\n",
    "map_name = \"Map\" \n",
    "map_obj = project.listMaps(map_name)[0]\n",
    "\n",
    "# Specify the DEM layer\n",
    "dem_layer_name = \"dnr_DEM\" \n",
    "dem_layer = map_obj.listLayers(dem_layer_name)[0]\n",
    "\n",
    "for layer in map_obj.listLayers():\n",
    "    if layer.name != dem_layer_name:\n",
    "        layer.visible = False\n",
    "    else:\n",
    "        layer.visible = True\n",
    "\n",
    "# Specify the output PDF file path\n",
    "pdf_output = r\"C:\\Users\\gregkohler1\\GIS\\Lab2\\Lab2\\DNR_DEM.pdf\" \n",
    "\n",
    "#Delete PDF is already Exists\n",
    "if os.path.exists(pdf_output):\n",
    "    os.remove(pdf_output)\n",
    "\n",
    "#Get Layout\n",
    "layout = project.listLayouts(\"PDF_Export\")[0]\n",
    "\n",
    "map_frame = layout.listElements(\"MAPFRAME_ELEMENT\")[0]\n",
    "\n",
    "map_frame.camera.setExtent(map_frame.getLayerExtent(dem_layer))\n",
    "\n",
    "\n",
    "# Export the layout to PDF\n",
    "layout.exportToPDF(pdf_output)"
   ]
  },
  {
   "cell_type": "code",
   "execution_count": null,
   "metadata": {},
   "outputs": [],
   "source": []
  }
 ],
 "metadata": {
  "kernelspec": {
   "display_name": "Python 3 (ipykernel)",
   "language": "python",
   "name": "python3"
  },
  "language_info": {
   "codemirror_mode": {
    "name": "ipython",
    "version": 3
   },
   "file_extension": ".py",
   "mimetype": "text/x-python",
   "name": "python",
   "nbconvert_exporter": "python",
   "pygments_lexer": "ipython3",
   "version": "3.11.4"
  }
 },
 "nbformat": 4,
 "nbformat_minor": 2
}
