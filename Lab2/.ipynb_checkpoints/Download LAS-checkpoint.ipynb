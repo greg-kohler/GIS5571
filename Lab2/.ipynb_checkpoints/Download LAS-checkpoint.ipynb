{
 "cells": [
  {
   "cell_type": "markdown",
   "metadata": {},
   "source": [
    "### Download LAS File to Local ###"
   ]
  },
  {
   "cell_type": "code",
   "execution_count": null,
   "metadata": {},
   "outputs": [],
   "source": [
    "import requests\n",
    "import os\n",
    "\n",
    "response = requests.get(r\"https://resources.gisdata.mn.gov/pub/data/elevation/lidar/examples/lidar_sample/las/4342-13-07.las\")\n",
    "laspath = r\"C:\\Users\\gregkohler1\\GIS\\Lab2\\Lab2\\DNR.las\"\n",
    "\n",
    "\n",
    "if response.status_code == 200:\n",
    "    with open(laspath, 'wb') as las_file:\n",
    "        las_file.write(response.content)"
   ]
  },
  {
   "cell_type": "markdown",
   "metadata": {},
   "source": [
    "#### Create LAS Dataset if Needed ####"
   ]
  },
  {
   "cell_type": "code",
   "execution_count": null,
   "metadata": {},
   "outputs": [],
   "source": [
    "if arcpy.Exists(r\"C:\\Users\\gregkohler1\\GIS\\Lab2\\Lab2\\DNR.lasd\"):\n",
    "    print(\"LAS Dataset Already Exists\")\n",
    "else:\n",
    "    arcpy.management.CreateLasDataset(r\"C:\\Users\\gregkohler1\\GIS\\Lab2\\Lab2\", \"DNR\")"
   ]
  },
  {
   "cell_type": "markdown",
   "metadata": {},
   "source": [
    "#### Add Downloaded LAS Files to Dataset ####"
   ]
  },
  {
   "cell_type": "code",
   "execution_count": null,
   "metadata": {
    "scrolled": true
   },
   "outputs": [],
   "source": [
    "arcpy.management.AddFilesToLasDataset(\n",
    "    in_las_dataset=\"DNR.lasd\",\n",
    "    in_files=r\"C:\\Users\\gregkohler1\\GIS\\Lab2\\Lab2\\DNR.las\",\n",
    "    folder_recursion=\"NO_RECURSION\",\n",
    "    in_surface_constraints=None\n",
    ")"
   ]
  }
 ],
 "metadata": {
  "kernelspec": {
   "display_name": "Python 3 (ipykernel)",
   "language": "python",
   "name": "python3"
  },
  "language_info": {
   "codemirror_mode": {
    "name": "ipython",
    "version": 3
   },
   "file_extension": ".py",
   "mimetype": "text/x-python",
   "name": "python",
   "nbconvert_exporter": "python",
   "pygments_lexer": "ipython3",
   "version": "3.11.4"
  }
 },
 "nbformat": 4,
 "nbformat_minor": 2
}
