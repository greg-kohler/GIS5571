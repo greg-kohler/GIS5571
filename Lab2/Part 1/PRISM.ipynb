{
 "cells": [
  {
   "cell_type": "code",
   "execution_count": null,
   "metadata": {},
   "outputs": [],
   "source": [
    "import requests\n",
    "import zipfile"
   ]
  },
  {
   "cell_type": "markdown",
   "metadata": {},
   "source": [
    "### Download and Extract BIL Files"
   ]
  },
  {
   "cell_type": "code",
   "execution_count": null,
   "metadata": {},
   "outputs": [],
   "source": [
    "response = requests.get(r'https://www.prism.oregonstate.edu/fetchData.php?type=all_bil&kind=normals&spatial=4km&elem=ppt&temporal=annual')\n",
    "bilpath = r\"C:\\Users\\gregkohler1\\GIS\\Lab2\\Lab2\\30yearppt.zip\"\n",
    "if response.status_code == 200:\n",
    "    with open(bilpath, 'wb') as file:\n",
    "        file.write(response.content)\n",
    "        \n",
    "with zipfile.ZipFile(bilpath, 'r') as zip_ref:\n",
    "        # Extract all contents to the extraction folder\n",
    "        zip_ref.extractall(r\"C:\\Users\\gregkohler1\\GIS\\Lab2\\Lab2\\BIL\")"
   ]
  },
  {
   "cell_type": "markdown",
   "metadata": {},
   "source": [
    "#### Convert Bil to Usable Format"
   ]
  },
  {
   "cell_type": "code",
   "execution_count": null,
   "metadata": {},
   "outputs": [],
   "source": [
    "### BIL TO TIFF\n",
    "arcpy.conversion.RasterToOtherFormat(\n",
    "    Input_Rasters=r\"C:\\Users\\gregkohler1\\GIS\\Lab2\\Lab2\\BIL\\PRISM_ppt_30yr_normal_4kmM4_01_bil.bil;C:\\Users\\gregkohler1\\GIS\\Lab2\\Lab2\\BIL\\PRISM_ppt_30yr_normal_4kmM4_02_bil.bil;C:\\Users\\gregkohler1\\GIS\\Lab2\\Lab2\\BIL\\PRISM_ppt_30yr_normal_4kmM4_03_bil.bil;C:\\Users\\gregkohler1\\GIS\\Lab2\\Lab2\\BIL\\PRISM_ppt_30yr_normal_4kmM4_04_bil.bil;C:\\Users\\gregkohler1\\GIS\\Lab2\\Lab2\\BIL\\PRISM_ppt_30yr_normal_4kmM4_05_bil.bil;C:\\Users\\gregkohler1\\GIS\\Lab2\\Lab2\\BIL\\PRISM_ppt_30yr_normal_4kmM4_06_bil.bil;C:\\Users\\gregkohler1\\GIS\\Lab2\\Lab2\\BIL\\PRISM_ppt_30yr_normal_4kmM4_07_bil.bil;C:\\Users\\gregkohler1\\GIS\\Lab2\\Lab2\\BIL\\PRISM_ppt_30yr_normal_4kmM4_08_bil.bil;C:\\Users\\gregkohler1\\GIS\\Lab2\\Lab2\\BIL\\PRISM_ppt_30yr_normal_4kmM4_09_bil.bil;C:\\Users\\gregkohler1\\GIS\\Lab2\\Lab2\\BIL\\PRISM_ppt_30yr_normal_4kmM4_10_bil.bil;C:\\Users\\gregkohler1\\GIS\\Lab2\\Lab2\\BIL\\PRISM_ppt_30yr_normal_4kmM4_11_bil.bil;C:\\Users\\gregkohler1\\GIS\\Lab2\\Lab2\\BIL\\PRISM_ppt_30yr_normal_4kmM4_12_bil.bil;C:\\Users\\gregkohler1\\GIS\\Lab2\\Lab2\\BIL\\PRISM_ppt_30yr_normal_4kmM4_annual_bil.bil\",\n",
    "    Output_Workspace=r\"C:\\Users\\gregkohler1\\GIS\\Lab2\\Lab2\\BILTOTIF\",\n",
    "    Raster_Format=\"TIFF\"\n",
    ")"
   ]
  },
  {
   "cell_type": "markdown",
   "metadata": {},
   "source": [
    "#### Create Mosaic Dataset"
   ]
  },
  {
   "cell_type": "code",
   "execution_count": null,
   "metadata": {},
   "outputs": [],
   "source": [
    "with arcpy.EnvManager(outputCoordinateSystem='PROJCS[\"WGS_1984_Web_Mercator_Auxiliary_Sphere\",GEOGCS[\"GCS_WGS_1984\",DATUM[\"D_WGS_1984\",SPHEROID[\"WGS_1984\",6378137.0,298.257223563]],PRIMEM[\"Greenwich\",0.0],UNIT[\"Degree\",0.0174532925199433]],PROJECTION[\"Mercator_Auxiliary_Sphere\"],PARAMETER[\"False_Easting\",0.0],PARAMETER[\"False_Northing\",0.0],PARAMETER[\"Central_Meridian\",0.0],PARAMETER[\"Standard_Parallel_1\",0.0],PARAMETER[\"Auxiliary_Sphere_Type\",0.0],UNIT[\"Meter\",1.0]]'):\n",
    "    arcpy.management.CreateMosaicDataset(\n",
    "        in_workspace=r\"C:\\Users\\gregkohler1\\GIS\\Lab2\\Lab2\\Lab2Data.gdb\",\n",
    "        in_mosaicdataset_name=\"PRISM\",\n",
    "        coordinate_system='GEOGCS[\"GCS_North_American_1983\",DATUM[\"D_North_American_1983\",SPHEROID[\"GRS_1980\",6378137.0,298.257222101]],PRIMEM[\"Greenwich\",0.0],UNIT[\"Degree\",0.0174532925199433]]',\n",
    "        num_bands=None,\n",
    "        pixel_type=\"\",\n",
    "        product_definition=\"NONE\",\n",
    "        product_band_definitions=None\n",
    "    )"
   ]
  },
  {
   "cell_type": "markdown",
   "metadata": {},
   "source": [
    "#### Add Raster Files to Mosaic"
   ]
  },
  {
   "cell_type": "code",
   "execution_count": null,
   "metadata": {},
   "outputs": [],
   "source": [
    "arcpy.management.AddRastersToMosaicDataset(\n",
    "    in_mosaic_dataset=\"PRISM\",\n",
    "    raster_type=\"Raster Dataset\",\n",
    "    input_path=r\"C:\\Users\\gregkohler1\\GIS\\Lab2\\Lab2\\BILTOTIF\",\n",
    "    update_cellsize_ranges=\"UPDATE_CELL_SIZES\",\n",
    "    update_boundary=\"UPDATE_BOUNDARY\",\n",
    "    update_overviews=\"NO_OVERVIEWS\",\n",
    "    maximum_pyramid_levels=None,\n",
    "    maximum_cell_size=0,\n",
    "    minimum_dimension=1500,\n",
    "    spatial_reference=None,\n",
    "    filter=\"\",\n",
    "    sub_folder=\"SUBFOLDERS\",\n",
    "    duplicate_items_action=\"ALLOW_DUPLICATES\",\n",
    "    build_pyramids=\"NO_PYRAMIDS\",\n",
    "    calculate_statistics=\"NO_STATISTICS\",\n",
    "    build_thumbnails=\"NO_THUMBNAILS\",\n",
    "    operation_description=\"\",\n",
    "    force_spatial_reference=\"NO_FORCE_SPATIAL_REFERENCE\",\n",
    "    estimate_statistics=\"NO_STATISTICS\",\n",
    "    aux_inputs=None,\n",
    "    enable_pixel_cache=\"NO_PIXEL_CACHE\",\n",
    "    cache_location=r\"C:\\Users\\gregkohler1\\AppData\\Local\\ESRI\\rasterproxies\\PRISM\"\n",
    ")"
   ]
  },
  {
   "cell_type": "markdown",
   "metadata": {},
   "source": [
    "#### Calculate Variable Field"
   ]
  },
  {
   "cell_type": "code",
   "execution_count": null,
   "metadata": {},
   "outputs": [],
   "source": [
    "arcpy.management.CalculateField(\n",
    "    in_table=r\"PRISM\\Footprint\",\n",
    "    field=\"Variable\",\n",
    "    expression='\"PRISM\"',\n",
    "    expression_type=\"PYTHON3\",\n",
    "    code_block=\"\",\n",
    "    field_type=\"TEXT\",\n",
    "    enforce_domains=\"NO_ENFORCE_DOMAINS\"\n",
    ")"
   ]
  },
  {
   "cell_type": "markdown",
   "metadata": {},
   "source": [
    "#### Calculate Field for Time"
   ]
  },
  {
   "cell_type": "code",
   "execution_count": null,
   "metadata": {},
   "outputs": [],
   "source": [
    "arcpy.management.CalculateField(\n",
    "    in_table=r\"PRISM\\Footprint\",\n",
    "    field=\"Timestamp\",\n",
    "    expression=\"\"\"var month = $feature.OBJECTID;\n",
    "var year = 1991;\n",
    "if (month == 13) {\n",
    "   var dateValue = null;\n",
    "} else {\n",
    "   var adjustedMonth = month - 1; \n",
    "   var dateValue = Date(year, adjustedMonth, 1);\n",
    "}\n",
    "dateValue\n",
    "\"\"\",\n",
    "    expression_type=\"ARCADE\",\n",
    "    code_block=\"\",\n",
    "    field_type=\"DATE\",\n",
    "    enforce_domains=\"NO_ENFORCE_DOMAINS\"\n",
    ")"
   ]
  },
  {
   "cell_type": "markdown",
   "metadata": {},
   "source": [
    "####  Build Multidimensional Info"
   ]
  },
  {
   "cell_type": "code",
   "execution_count": null,
   "metadata": {},
   "outputs": [],
   "source": [
    "arcpy.md.BuildMultidimensionalInfo(\n",
    "    in_mosaic_dataset=\"PRISM\",\n",
    "    variable_field=\"Variable\",\n",
    "    dimension_fields=\"Timestamp # #\",\n",
    "    variable_desc_units=None,\n",
    "    delete_multidimensional_info=\"NO_DELETE_MULTIDIMENSIONAL_INFO\"\n",
    ")"
   ]
  },
  {
   "cell_type": "markdown",
   "metadata": {},
   "source": [
    "#### Make Multidimensional Raster Layer"
   ]
  },
  {
   "cell_type": "code",
   "execution_count": null,
   "metadata": {},
   "outputs": [],
   "source": [
    "arcpy.md.MakeMultidimensionalRasterLayer(\n",
    "    in_multidimensional_raster=\"PRISM\",\n",
    "    out_multidimensional_raster_layer=\"PRISM_MultidimLayer\",\n",
    "    variables=\"PRISM\",\n",
    "    dimension_def=\"ALL\",\n",
    "    dimension_ranges=None,\n",
    "    dimension_values=None,\n",
    "    dimension=\"\",\n",
    "    start_of_first_iteration=\"\",\n",
    "    end_of_first_iteration=\"\",\n",
    "    iteration_step=None,\n",
    "    iteration_unit=\"\",\n",
    "    template='-125.020833333333 24.0624999997935 -66.4791666661985 49.9375000000005 GEOGCS[\"GCS_North_American_1983\",DATUM[\"D_North_American_1983\",SPHEROID[\"GRS_1980\",6378137.0,298.257222101]],PRIMEM[\"Greenwich\",0.0],UNIT[\"Degree\",0.0174532925199433]]',\n",
    "    dimensionless=\"DIMENSIONS\",\n",
    "    spatial_reference=None\n",
    ")"
   ]
  },
  {
   "cell_type": "markdown",
   "metadata": {},
   "source": [
    "#### Create Space Time Cubes"
   ]
  },
  {
   "cell_type": "code",
   "execution_count": null,
   "metadata": {},
   "outputs": [],
   "source": [
    "arcpy.stpm.CreateSpaceTimeCubeMDRasterLayer(\n",
    "    in_md_raster=\"PRISM_MultidimLayer\",\n",
    "    output_cube=r\"C:\\Users\\gregkohler1\\GIS\\Lab2\\Lab2\\PRISM_CUBES.nc\",\n",
    "    fill_empty_bins=\"ZEROS\"\n",
    ")"
   ]
  }
 ],
 "metadata": {
  "kernelspec": {
   "display_name": "Python 3 (ipykernel)",
   "language": "python",
   "name": "python3"
  },
  "language_info": {
   "codemirror_mode": {
    "name": "ipython",
    "version": 3
   },
   "file_extension": ".py",
   "mimetype": "text/x-python",
   "name": "python",
   "nbconvert_exporter": "python",
   "pygments_lexer": "ipython3",
   "version": "3.11.4"
  }
 },
 "nbformat": 4,
 "nbformat_minor": 2
}
