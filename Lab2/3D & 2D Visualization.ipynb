{
 "cells": [
  {
   "cell_type": "markdown",
   "metadata": {},
   "source": [
    "### Make 2D Model of LAS"
   ]
  },
  {
   "cell_type": "code",
   "execution_count": null,
   "metadata": {
    "scrolled": true
   },
   "outputs": [],
   "source": [
    "### 2D\n",
    "aprx = arcpy.mp.ArcGISProject(\"CURRENT\")\n",
    "map2d = aprx.listMaps()[0]\n",
    "layer = map2d.addDataFromPath(r\"C:\\Users\\gregkohler1\\GIS\\Lab2\\Lab2\\DNR.las\")\n",
    "\n",
    "#### THIN LAS TO DISPLAY\n",
    "arcpy.ddd.ThinLas(\n",
    "    in_las_dataset=\"DNR.las\",\n",
    "    target_folder=r\"C:\\Users\\gregkohler1\\GIS\\Lab2\",\n",
    "    thinning_dimension=\"2D\",\n",
    "    xy_resolution=\"2 Meters\",\n",
    "    z_resolution=None,\n",
    "    point_selection_method=\"CLOSEST_TO_CENTER\",\n",
    "    class_codes_weights=None,\n",
    "    name_suffix=\"thinned\",\n",
    "    out_las_dataset=r\"C:\\Users\\gregkohler1\\GIS\\Lab2\\Lab2\\DNR_THINNED.lasd\",\n",
    "    preserved_class_codes=[],\n",
    "    preserved_flags=None,\n",
    "    preserved_returns=None,\n",
    "    excluded_class_codes=[],\n",
    "    excluded_flags=None,\n",
    "    excluded_returns=None,\n",
    "    compression=\"NO_COMPRESSION\",\n",
    "    remove_vlr=\"MAINTAIN_VLR\",\n",
    "    rearrange_points=\"MAINTAIN_POINTS\",\n",
    "    compute_stats=\"NO_COMPUTE_STATS\"\n",
    ")"
   ]
  },
  {
   "cell_type": "markdown",
   "metadata": {},
   "source": [
    "### Make 3D Model of LAS"
   ]
  },
  {
   "cell_type": "code",
   "execution_count": null,
   "metadata": {},
   "outputs": [],
   "source": [
    "##3D\n",
    "aprx = arcpy.mp.ArcGISProject(\"CURRENT\")\n",
    "scene = aprx.listMaps()[1]\n",
    "layer = scene.addDataFromPath(r\"C:\\Users\\gregkohler1\\GIS\\Lab2\\Lab2\\DNR.las\")"
   ]
  }
 ],
 "metadata": {
  "kernelspec": {
   "display_name": "ArcGISPro",
   "language": "Python",
   "name": "python3"
  },
  "language_info": {
   "file_extension": ".py",
   "name": "python",
   "version": "3"
  }
 },
 "nbformat": 4,
 "nbformat_minor": 2
}
