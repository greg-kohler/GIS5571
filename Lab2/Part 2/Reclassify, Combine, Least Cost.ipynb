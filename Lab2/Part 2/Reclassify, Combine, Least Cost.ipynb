{
 "cells": [
  {
   "cell_type": "code",
   "execution_count": null,
   "metadata": {},
   "outputs": [],
   "source": [
    "import arcpy\n",
    "import os"
   ]
  },
  {
   "cell_type": "markdown",
   "metadata": {},
   "source": [
    "#### Reclassify Slope"
   ]
  },
  {
   "cell_type": "code",
   "execution_count": null,
   "metadata": {},
   "outputs": [],
   "source": [
    "out_raster = arcpy.sa.Reclassify(\n",
    "    in_raster=\"SlopeLayer\",\n",
    "    reclass_field=\"VALUE\",\n",
    "    remap=\"0 2.940712 1;2.940712 6.763637 2;6.763637 11.762846 3;11.762846 21.173123 4;21.173123 74.988144 5\",\n",
    "    missing_values=\"DATA\"\n",
    ")\n",
    "out_raster.save(r\"\\\\Mac\\Home\\Documents\\ArcGIS\\Projects\\Lab2-2\\Lab2-2.gdb\\Reclass_Slope\")"
   ]
  },
  {
   "cell_type": "markdown",
   "metadata": {},
   "source": [
    "#### Reclassify Land Use"
   ]
  },
  {
   "cell_type": "code",
   "execution_count": null,
   "metadata": {},
   "outputs": [],
   "source": [
    "out_raster = arcpy.sa.Reclassify(\n",
    "    in_raster=\"landusebufferraster\",\n",
    "    reclass_field=\"NLCD_Land\",\n",
    "    remap=\"'Open Water' 5;'Developed, Open Space' 1;'Developed, Low Intensity' 1;'Developed, Medium Intensity' 1;'Developed, High Intensity' 1;'Barren Land' 1;'Deciduous Forest' 1;'Evergreen Forest' 1;'Mixed Forest' 1;Shrub/Scrub 1;Herbaceous 1;Hay/Pasture 4;'Cultivated Crops' 5;'Woody Wetlands' 3;'Emergent Herbaceous Wetlands' 3\",\n",
    "    missing_values=\"DATA\"\n",
    ")\n",
    "out_raster.save(r\"\\\\Mac\\Home\\Documents\\ArcGIS\\Projects\\Lab2-2\\Lab2-2.gdb\\Reclass_LandUse\")"
   ]
  },
  {
   "cell_type": "markdown",
   "metadata": {},
   "source": [
    "#### Combine Rasters with Different Weights"
   ]
  },
  {
   "cell_type": "code",
   "execution_count": null,
   "metadata": {},
   "outputs": [],
   "source": [
    "arcpy.env.workspace = r\"\\\\Mac\\Home\\Documents\\ArcGIS\\Projects\\Lab2-2\\Lab2-2.gdb\"\n",
    "output_folder = r\"\\\\Mac\\Home\\Documents\\ArcGIS\\Projects\\Lab2-2\\DorysPath.gdb\"\n",
    "\n",
    "# List of input raster names\n",
    "input_raster_names = [\"Reclass_Slope\", \"Reclass_LandUse\"]\n",
    "\n",
    "#List of Weights\n",
    "weight_scenarios = [0.25, 0.5]\n",
    "\n",
    "# Nested loop to process each combination of input rasters and weight scenarios\n",
    "for raster1_name in input_raster_names:\n",
    "    for raster2_name in input_raster_names:\n",
    "        for weight in weight_scenarios:\n",
    "            if weight == 0.5:\n",
    "                output_name = f\"LandUse_Slope_EqualWeight\"\n",
    "            else:\n",
    "                output_name = f\"{raster1_name}_w{int(weight * 100)}_{raster2_name}_w{int((1 - weight) * 100)}\"\n",
    "            #Skip if loop wants to pair the same rasters together\n",
    "            if raster1_name == raster2_name:\n",
    "                continue\n",
    "            \n",
    "            # Paths to rasters\n",
    "            raster1 = os.path.join(arcpy.env.workspace, raster1_name)\n",
    "            raster2 = os.path.join(arcpy.env.workspace, raster2_name)\n",
    "\n",
    "            # Create raster combinations\n",
    "            raster1_weighted = arcpy.Raster(raster1) * weight\n",
    "            raster2_weighted = arcpy.Raster(raster2) * (1 - weight)\n",
    "            output_raster = raster1_weighted + raster2_weighted\n",
    "\n",
    "            # Save the output raster\n",
    "            output_raster.save(os.path.join(output_folder, output_name))\n",
    "            print(f\"{output_name} Created and Saved\")"
   ]
  },
  {
   "cell_type": "markdown",
   "metadata": {},
   "source": [
    "#### Calculate Least Cost Path"
   ]
  },
  {
   "cell_type": "code",
   "execution_count": null,
   "metadata": {
    "scrolled": true
   },
   "outputs": [],
   "source": [
    "costsurfaces = [\"Reclass_Slope_w25_Reclass_LandUse_w75\", \"LandUse_Slope_EqualWeight\", \"Reclass_LandUse_w25_Reclass_Slope_w75\"]\n",
    "\n",
    "for costsurface in costsurfaces:\n",
    "    \n",
    "    arcpy.intelligence.LeastCostPath(\n",
    "        in_cost_surface=costsurface,\n",
    "        in_start_point=\"Least Cost Path Input Starting Point (Points)\",\n",
    "        in_end_point=\"Least Cost Path Input Ending Point (Points)\",\n",
    "        out_path_feature_class=rf\"\\\\Mac\\Home\\Documents\\ArcGIS\\Projects\\Lab2-2\\Lab2-2.gdb\\{costsurface}_LeastCost\",\n",
    "        handle_zeros=\"NO_DATA\"\n",
    "    )"
   ]
  }
 ],
 "metadata": {
  "kernelspec": {
   "display_name": "Python 3 (ipykernel)",
   "language": "python",
   "name": "python3"
  },
  "language_info": {
   "codemirror_mode": {
    "name": "ipython",
    "version": 3
   },
   "file_extension": ".py",
   "mimetype": "text/x-python",
   "name": "python",
   "nbconvert_exporter": "python",
   "pygments_lexer": "ipython3",
   "version": "3.11.4"
  }
 },
 "nbformat": 4,
 "nbformat_minor": 2
}
