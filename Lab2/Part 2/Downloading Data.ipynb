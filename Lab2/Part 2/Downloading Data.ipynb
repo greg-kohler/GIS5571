{
 "cells": [
  {
   "cell_type": "code",
   "execution_count": null,
   "metadata": {},
   "outputs": [],
   "source": [
    "import arcpy\n",
    "import requests\n",
    "import zipfile\n",
    "from arcpy.sa import *\n",
    "import os"
   ]
  },
  {
   "cell_type": "markdown",
   "metadata": {},
   "source": [
    "#### Download Land Use and Extract the Files"
   ]
  },
  {
   "cell_type": "code",
   "execution_count": null,
   "metadata": {},
   "outputs": [],
   "source": [
    "#Paths to save land use files\n",
    "landcoverpath = r\"\\\\Mac\\Home\\Documents\\ArcGIS\\Projects\\Lab2-2\\LandUse\\landcover.zip\"\n",
    "landusefolder = r\"\\\\Mac\\Home\\Documents\\ArcGIS\\Projects\\Lab2-2\\LandUse\"\n",
    "\n",
    "#Request land use zipfile from commons\n",
    "landcoverresp = requests.get(r\"https://resources.gisdata.mn.gov/pub/gdrs/data/pub/us_mn_state_dnr/biota_landcover_nlcd_mn_2019/tif_biota_landcover_nlcd_mn_2019.zip\")\n",
    "\n",
    "#Write zipfile to disk\n",
    "if landcoverresp.status_code == 200:\n",
    "    with open(landcoverpath, 'wb') as file:\n",
    "        file.write(landcoverresp.content)\n",
    "#Extract files from zipfile\n",
    "with zipfile.ZipFile(landcoverpath, 'r') as zip_ref:\n",
    "    zip_ref.extractall(landusefolder)"
   ]
  },
  {
   "cell_type": "markdown",
   "metadata": {},
   "source": [
    "#### Download Elevation"
   ]
  },
  {
   "cell_type": "code",
   "execution_count": null,
   "metadata": {},
   "outputs": [],
   "source": [
    "#Paths to Save DEMs\n",
    "elevationpath = r\"\\\\Mac\\Home\\Documents\\ArcGIS\\Projects\\Lab2-2\\Elevation\\elevation.zip\"\n",
    "elevationfolder = r\"\\\\Mac\\Home\\Documents\\ArcGIS\\Projects\\Lab2-2\\Elevation\"\n",
    "\n",
    "elevationresp = requests.get(r\"https://resources.gisdata.mn.gov/pub/gdrs/data/pub/us_mn_state_dnr/elev_30m_digital_elevation_model/fgdb_elev_30m_digital_elevation_model.zip\")\n",
    "\n",
    "#Write zipfile to disk\n",
    "if elevationresp.status_code == 200:\n",
    "    with open(elevationpath, 'wb') as file:\n",
    "        file.write(elevationresp.content)\n",
    "        \n",
    "#Extract files from zipfile\n",
    "with zipfile.ZipFile(elevationpath, 'r') as zip_ref:\n",
    "    zip_ref.extractall(elevationfolder)"
   ]
  },
  {
   "cell_type": "markdown",
   "metadata": {},
   "source": [
    "#### Add Dory's House and State Park Points"
   ]
  },
  {
   "cell_type": "code",
   "execution_count": null,
   "metadata": {},
   "outputs": [],
   "source": [
    "aprx = arcpy.mp.ArcGISProject(\"CURRENT\")\n",
    "m = aprx.listMaps('Map')[0]\n",
    "dorypoints = r\"\\\\Mac\\Home\\Documents\\ArcGIS\\Projects\\Lab2-2\\Lab2-2.gdb\\Dory\"\n",
    "m.addDataFromPath(dorypoints)"
   ]
  },
  {
   "cell_type": "markdown",
   "metadata": {},
   "source": [
    "#### Create Buffer Around Points"
   ]
  },
  {
   "cell_type": "code",
   "execution_count": null,
   "metadata": {},
   "outputs": [],
   "source": [
    "arcpy.analysis.Buffer(\n",
    "    in_features=\"Dory\",\n",
    "    out_feature_class=r\"\\\\Mac\\Home\\Documents\\ArcGIS\\Projects\\Lab2-2\\Lab2-2.gdb\\Dory_Buffer\",\n",
    "    buffer_distance_or_field=\"10 Miles\",\n",
    "    line_side=\"FULL\",\n",
    "    line_end_type=\"ROUND\",\n",
    "    dissolve_option=\"ALL\",\n",
    "    dissolve_field=None,\n",
    "    method=\"PLANAR\"\n",
    ")"
   ]
  },
  {
   "cell_type": "markdown",
   "metadata": {},
   "source": [
    "#### Clip Out Layer Using Points Buffer"
   ]
  },
  {
   "cell_type": "code",
   "execution_count": null,
   "metadata": {},
   "outputs": [],
   "source": [
    "# Define the input rasters and output location\n",
    "landuse_raster = r\"\\\\Mac\\Home\\Documents\\ArcGIS\\Projects\\Lab2-2\\LandUse\\NLCD_2019_Land_Cover.tif\"\n",
    "output_folder = r\"\\\\Mac\\Home\\Documents\\ArcGIS\\Projects\\Lab2-2\\Clipped\"\n",
    "output_database = r\"\\\\Mac\\Home\\Documents\\ArcGIS\\Projects\\Lab2-2\\Lab2-2.gdb\"\n",
    "elevation_raster = r\"\\\\Mac\\Home\\Documents\\ArcGIS\\Projects\\Lab2-2\\Elevation\\elev_30m_digital_elevation_model.gdb\\digital_elevation_model_30m\"\n",
    "\n",
    "#Extract section of rasters overlapped by the Dory_Buffer\n",
    "landusebufferraster = arcpy.sa.ExtractByMask(landuse_raster, \"Dory_Buffer\")\n",
    "elevationbufferraster = arcpy.sa.ExtractByMask(elevation_raster, \"Dory_Buffer\")\n",
    "\n",
    "# Save the clipped raster to  output folder\n",
    "output_landuse = os.path.join(output_folder, \"Clipped_LandUse.tif\")\n",
    "output_elevation = os.path.join(output_database, \"Clipped_Elevation\")\n",
    "landusebufferraster.save(output_landuse)\n",
    "elevationbufferraster.save(output_elevation)"
   ]
  },
  {
   "cell_type": "markdown",
   "metadata": {},
   "source": [
    "#### Create Slope Layer"
   ]
  },
  {
   "cell_type": "code",
   "execution_count": null,
   "metadata": {},
   "outputs": [],
   "source": [
    "arcpy.ddd.Slope(\n",
    "    in_raster=\"\\\\Mac\\Home\\Documents\\ArcGIS\\Projects\\Lab2-2\\Lab2-2.gdb\\Clipped_Elevation\",\n",
    "    out_raster=r\"\\\\Mac\\Home\\Documents\\ArcGIS\\Projects\\Lab2-2\\Lab2-2.gdb\\SlopeLayer\",\n",
    "    output_measurement=\"DEGREE\",\n",
    "    z_factor=1,\n",
    "    method=\"PLANAR\",\n",
    "    z_unit=\"METER\",\n",
    ")"
   ]
  }
 ],
 "metadata": {
  "kernelspec": {
   "display_name": "Python 3 (ipykernel)",
   "language": "python",
   "name": "python3"
  },
  "language_info": {
   "codemirror_mode": {
    "name": "ipython",
    "version": 3
   },
   "file_extension": ".py",
   "mimetype": "text/x-python",
   "name": "python",
   "nbconvert_exporter": "python",
   "pygments_lexer": "ipython3",
   "version": "3.11.4"
  }
 },
 "nbformat": 4,
 "nbformat_minor": 2
}
