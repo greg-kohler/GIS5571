{
 "cells": [
  {
   "cell_type": "code",
   "execution_count": null,
   "metadata": {},
   "outputs": [],
   "source": [
    "import arcpy\n",
    "import os"
   ]
  },
  {
   "cell_type": "markdown",
   "metadata": {},
   "source": [
    "### Convert LAS to TIN"
   ]
  },
  {
   "cell_type": "code",
   "execution_count": null,
   "metadata": {
    "scrolled": true
   },
   "outputs": [],
   "source": [
    "arcpy.ddd.LasDatasetToTin(\n",
    "    in_las_dataset=r\"C:\\Users\\gregkohler1\\GIS\\Lab2\\Lab2\\DNR.lasd\",\n",
    "    out_tin=r\"C:\\Users\\gregkohler1\\GIS\\Lab2\\Lab2\\DNR_TIN\",\n",
    "    thinning_type=\"WINDOW_SIZE\",\n",
    "    thinning_method=\"\",\n",
    "    thinning_value=None,\n",
    "    max_nodes=500000,\n",
    "    z_factor=1,\n",
    "    clip_to_extent=\"CLIP\"\n",
    ")"
   ]
  },
  {
   "cell_type": "markdown",
   "metadata": {},
   "source": [
    "### Export TIN to PDF"
   ]
  },
  {
   "cell_type": "code",
   "execution_count": null,
   "metadata": {},
   "outputs": [],
   "source": [
    "#Specify the Project \n",
    "project = arcpy.mp.ArcGISProject(\"CURRENT\")\n",
    "\n",
    "# Specify the map containing the DEM layer\n",
    "map_name = \"Map\" \n",
    "map_obj = project.listMaps(map_name)[0]\n",
    "\n",
    "# Specify the TIN layer\n",
    "tin_layer_name = \"DNRl.Ec_TIN\" \n",
    "tin_layer = map_obj.listLayers(tin_layer_name)[0]\n",
    "\n",
    "for layer in map_obj.listLayers():\n",
    "    if layer.name != tin_layer_name:\n",
    "        layer.visible = False\n",
    "    else:\n",
    "        layer.visible = True\n",
    "           \n",
    "# Specify output PDF path\n",
    "pdf_output = r\"C:\\Users\\gregkohler1\\GIS\\Lab2\\Lab2\\DNR_TIN.pdf\"\n",
    "\n",
    "#Remove PDF if it already exists\n",
    "if os.path.exists(pdf_output):\n",
    "    os.remove(pdf_output)\n",
    "\n",
    "# Get PDF_Export Layout\n",
    "layout = project.listLayouts(\"PDF_Export\")[0]\n",
    "\n",
    "map_frame = layout.listElements(\"MAPFRAME_ELEMENT\")[0]\n",
    "\n",
    "map_frame.camera.setExtent(map_frame.getLayerExtent(tin_layer))\n",
    "\n",
    "# Export the layout to PDF\n",
    "layout.exportToPDF(pdf_output)"
   ]
  }
 ],
 "metadata": {
  "kernelspec": {
   "display_name": "ArcGISPro",
   "language": "Python",
   "name": "python3"
  },
  "language_info": {
   "file_extension": ".py",
   "name": "python",
   "version": "3"
  }
 },
 "nbformat": 4,
 "nbformat_minor": 2
}
